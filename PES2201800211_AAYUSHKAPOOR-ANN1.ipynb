{
 "cells": [
  {
   "cell_type": "code",
   "execution_count": 26,
   "metadata": {},
   "outputs": [],
   "source": [
    "import numpy as np\n",
    "import pandas as pd\n",
    "import matplotlib.pyplot as plt\n",
    "import seaborn as sns\n",
    "\n",
    "from sklearn.model_selection import train_test_split\n",
    "from warnings import filterwarnings\n",
    "filterwarnings(\"ignore\")\n",
    "\n",
    "%matplotlib inline"
   ]
  },
  {
   "cell_type": "code",
   "execution_count": 27,
   "metadata": {},
   "outputs": [
    {
     "name": "stdout",
     "output_type": "stream",
     "text": [
      "Shape: (96, 10)\n"
     ]
    },
    {
     "data": {
      "text/html": [
       "<div>\n",
       "<style scoped>\n",
       "    .dataframe tbody tr th:only-of-type {\n",
       "        vertical-align: middle;\n",
       "    }\n",
       "\n",
       "    .dataframe tbody tr th {\n",
       "        vertical-align: top;\n",
       "    }\n",
       "\n",
       "    .dataframe thead th {\n",
       "        text-align: right;\n",
       "    }\n",
       "</style>\n",
       "<table border=\"1\" class=\"dataframe\">\n",
       "  <thead>\n",
       "    <tr style=\"text-align: right;\">\n",
       "      <th></th>\n",
       "      <th>Community</th>\n",
       "      <th>Age</th>\n",
       "      <th>Weight</th>\n",
       "      <th>Delivery phase</th>\n",
       "      <th>HB</th>\n",
       "      <th>IFA</th>\n",
       "      <th>BP</th>\n",
       "      <th>Education</th>\n",
       "      <th>Residence</th>\n",
       "      <th>Result</th>\n",
       "    </tr>\n",
       "  </thead>\n",
       "  <tbody>\n",
       "    <tr>\n",
       "      <th>0</th>\n",
       "      <td>1</td>\n",
       "      <td>21.0</td>\n",
       "      <td>42.0</td>\n",
       "      <td>1.0</td>\n",
       "      <td>9.2</td>\n",
       "      <td>1</td>\n",
       "      <td>1.375</td>\n",
       "      <td>5.0</td>\n",
       "      <td>1.0</td>\n",
       "      <td>0</td>\n",
       "    </tr>\n",
       "    <tr>\n",
       "      <th>1</th>\n",
       "      <td>1</td>\n",
       "      <td>21.0</td>\n",
       "      <td>NaN</td>\n",
       "      <td>1.0</td>\n",
       "      <td>8.8</td>\n",
       "      <td>1</td>\n",
       "      <td>1.500</td>\n",
       "      <td>5.0</td>\n",
       "      <td>1.0</td>\n",
       "      <td>0</td>\n",
       "    </tr>\n",
       "    <tr>\n",
       "      <th>2</th>\n",
       "      <td>1</td>\n",
       "      <td>21.0</td>\n",
       "      <td>NaN</td>\n",
       "      <td>1.0</td>\n",
       "      <td>9.2</td>\n",
       "      <td>1</td>\n",
       "      <td>2.125</td>\n",
       "      <td>5.0</td>\n",
       "      <td>1.0</td>\n",
       "      <td>0</td>\n",
       "    </tr>\n",
       "    <tr>\n",
       "      <th>3</th>\n",
       "      <td>1</td>\n",
       "      <td>21.0</td>\n",
       "      <td>NaN</td>\n",
       "      <td>1.0</td>\n",
       "      <td>8.0</td>\n",
       "      <td>1</td>\n",
       "      <td>1.375</td>\n",
       "      <td>5.0</td>\n",
       "      <td>1.0</td>\n",
       "      <td>0</td>\n",
       "    </tr>\n",
       "    <tr>\n",
       "      <th>4</th>\n",
       "      <td>1</td>\n",
       "      <td>24.0</td>\n",
       "      <td>33.0</td>\n",
       "      <td>1.0</td>\n",
       "      <td>9.3</td>\n",
       "      <td>1</td>\n",
       "      <td>1.571</td>\n",
       "      <td>5.0</td>\n",
       "      <td>1.0</td>\n",
       "      <td>0</td>\n",
       "    </tr>\n",
       "  </tbody>\n",
       "</table>\n",
       "</div>"
      ],
      "text/plain": [
       "   Community   Age  Weight  Delivery phase   HB  IFA     BP  Education  \\\n",
       "0          1  21.0    42.0             1.0  9.2    1  1.375        5.0   \n",
       "1          1  21.0     NaN             1.0  8.8    1  1.500        5.0   \n",
       "2          1  21.0     NaN             1.0  9.2    1  2.125        5.0   \n",
       "3          1  21.0     NaN             1.0  8.0    1  1.375        5.0   \n",
       "4          1  24.0    33.0             1.0  9.3    1  1.571        5.0   \n",
       "\n",
       "   Residence  Result  \n",
       "0        1.0       0  \n",
       "1        1.0       0  \n",
       "2        1.0       0  \n",
       "3        1.0       0  \n",
       "4        1.0       0  "
      ]
     },
     "execution_count": 27,
     "metadata": {},
     "output_type": "execute_result"
    }
   ],
   "source": [
    "df=pd.read_csv(\"LBW_Dataset.csv\")\n",
    "print(\"Shape:\",df.shape)\n",
    "df.head()"
   ]
  },
  {
   "cell_type": "code",
   "execution_count": 29,
   "metadata": {},
   "outputs": [
    {
     "data": {
      "text/plain": [
       "Community          0\n",
       "Age                7\n",
       "Weight            11\n",
       "Delivery phase     4\n",
       "HB                19\n",
       "IFA                0\n",
       "BP                15\n",
       "Education          3\n",
       "Residence          2\n",
       "Result             0\n",
       "dtype: int64"
      ]
     },
     "execution_count": 29,
     "metadata": {},
     "output_type": "execute_result"
    }
   ],
   "source": [
    "nulls=df.isnull().sum()\n",
    "nulls\n",
    "#(nulls*100)/96"
   ]
  },
  {
   "cell_type": "code",
   "execution_count": 30,
   "metadata": {},
   "outputs": [
    {
     "name": "stdout",
     "output_type": "stream",
     "text": [
      "no of rows with label 1 :  72\n",
      "no of rows with label 0 :  24\n"
     ]
    }
   ],
   "source": [
    "print(\"no of rows with label 1 : \", sum(df.Result == 1))\n",
    "print(\"no of rows with label 0 : \", sum(df.Result == 0))"
   ]
  },
  {
   "cell_type": "code",
   "execution_count": 31,
   "metadata": {},
   "outputs": [
    {
     "name": "stdout",
     "output_type": "stream",
     "text": [
      "count    89.000000\n",
      "mean     23.752809\n",
      "std       3.321011\n",
      "min      17.000000\n",
      "25%      21.000000\n",
      "50%      24.000000\n",
      "75%      26.000000\n",
      "max      38.000000\n",
      "Name: Age, dtype: float64\n",
      "23.770833333333332\n"
     ]
    },
    {
     "data": {
      "image/png": "[encoded data removed]",
      "text/plain": [
       "<Figure size 432x288 with 1 Axes>"
      ]
     },
     "metadata": {
      "needs_background": "light"
     },
     "output_type": "display_data"
    }
   ],
   "source": [
    "# AGE CLEANING & VIZ\n",
    "ages=df[\"Age\"].notnull()\n",
    "age=df[\"Age\"]\n",
    "ages=age[ages]\n",
    "print(ages.describe())\n",
    "# plt.hist(ages,bins=20)\n",
    "# plt.show()\n",
    "sns.distplot(ages, hist = False, kde = True)\n",
    "age.fillna(ages.median(),inplace=True)\n",
    "print(df['Age'].mean())"
   ]
  },
  {
   "cell_type": "code",
   "execution_count": 32,
   "metadata": {},
   "outputs": [
    {
     "data": {
      "image/png": "[encoded data removed]",
      "text/plain": [
       "<Figure size 432x288 with 1 Axes>"
      ]
     },
     "metadata": {
      "needs_background": "light"
     },
     "output_type": "display_data"
    },
    {
     "data": {
      "image/png": "[encoded data removed]",
      "text/plain": [
       "<Figure size 432x288 with 1 Axes>"
      ]
     },
     "metadata": {
      "needs_background": "light"
     },
     "output_type": "display_data"
    },
    {
     "data": {
      "image/png": "[encoded data removed]",
      "text/plain": [
       "<Figure size 432x288 with 1 Axes>"
      ]
     },
     "metadata": {
      "needs_background": "light"
     },
     "output_type": "display_data"
    },
    {
     "name": "stdout",
     "output_type": "stream",
     "text": [
      "count    85.000000\n",
      "mean     45.129412\n",
      "std       8.215532\n",
      "min      30.000000\n",
      "25%      40.000000\n",
      "50%      43.000000\n",
      "75%      50.000000\n",
      "max      65.000000\n",
      "Name: Weight, dtype: float64\n"
     ]
    }
   ],
   "source": [
    "# WEIGHT CLEANING & VIZ\n",
    "wts=df['Weight'].notnull()\n",
    "cor_age=df.Age[wts]\n",
    "cor_wts=df.Weight[wts]\n",
    "plt.boxplot(df.Age)\n",
    "plt.show()\n",
    "plt.boxplot(df.Weight)\n",
    "plt.show()\n",
    "cor=np.cov(cor_age,cor_wts)\n",
    "cor[0,1]/(cor_age.std()*cor_wts.std())\n",
    "plt.scatter(cor_age,cor_wts)\n",
    "plt.show()\n",
    "print(cor_wts.describe())\n",
    "df.Weight.fillna(cor_wts.mean(),inplace=True)"
   ]
  },
  {
   "cell_type": "code",
   "execution_count": 33,
   "metadata": {},
   "outputs": [
    {
     "data": {
      "image/png": "[encoded data removed]",
      "text/plain": [
       "<Figure size 432x288 with 1 Axes>"
      ]
     },
     "metadata": {
      "needs_background": "light"
     },
     "output_type": "display_data"
    }
   ],
   "source": [
    "# HB CLEANING & VIZ\n",
    "h=df['HB'].notnull()\n",
    "hbs=df.HB[h].to_numpy()\n",
    "lo=hbs>=8\n",
    "hi=hbs<=10\n",
    "hb=hbs[lo & hi]\n",
    "sns.boxplot(y=hbs)\n",
    "# plt.show()\n",
    "#print(pd.Series(hbs).describe(),pd.Series(hb).describe())\n",
    "df.HB.fillna(hb.mean(),inplace=True)"
   ]
  },
  {
   "cell_type": "code",
   "execution_count": 34,
   "metadata": {},
   "outputs": [
    {
     "data": {
      "text/html": [
       "<div>\n",
       "<style scoped>\n",
       "    .dataframe tbody tr th:only-of-type {\n",
       "        vertical-align: middle;\n",
       "    }\n",
       "\n",
       "    .dataframe tbody tr th {\n",
       "        vertical-align: top;\n",
       "    }\n",
       "\n",
       "    .dataframe thead th {\n",
       "        text-align: right;\n",
       "    }\n",
       "</style>\n",
       "<table border=\"1\" class=\"dataframe\">\n",
       "  <thead>\n",
       "    <tr style=\"text-align: right;\">\n",
       "      <th></th>\n",
       "      <th>1</th>\n",
       "      <th>2</th>\n",
       "      <th>3</th>\n",
       "      <th>4</th>\n",
       "      <th>Age</th>\n",
       "      <th>Weight</th>\n",
       "      <th>HB</th>\n",
       "      <th>IFA</th>\n",
       "      <th>BP</th>\n",
       "      <th>Residence</th>\n",
       "      <th>Result</th>\n",
       "    </tr>\n",
       "  </thead>\n",
       "  <tbody>\n",
       "    <tr>\n",
       "      <th>0</th>\n",
       "      <td>1</td>\n",
       "      <td>0</td>\n",
       "      <td>0</td>\n",
       "      <td>0</td>\n",
       "      <td>21.0</td>\n",
       "      <td>42.000000</td>\n",
       "      <td>9.200000</td>\n",
       "      <td>1</td>\n",
       "      <td>1.375000</td>\n",
       "      <td>1.0</td>\n",
       "      <td>0</td>\n",
       "    </tr>\n",
       "    <tr>\n",
       "      <th>1</th>\n",
       "      <td>1</td>\n",
       "      <td>0</td>\n",
       "      <td>0</td>\n",
       "      <td>0</td>\n",
       "      <td>21.0</td>\n",
       "      <td>45.129412</td>\n",
       "      <td>8.800000</td>\n",
       "      <td>1</td>\n",
       "      <td>1.500000</td>\n",
       "      <td>1.0</td>\n",
       "      <td>0</td>\n",
       "    </tr>\n",
       "    <tr>\n",
       "      <th>2</th>\n",
       "      <td>1</td>\n",
       "      <td>0</td>\n",
       "      <td>0</td>\n",
       "      <td>0</td>\n",
       "      <td>21.0</td>\n",
       "      <td>45.129412</td>\n",
       "      <td>9.200000</td>\n",
       "      <td>1</td>\n",
       "      <td>2.125000</td>\n",
       "      <td>1.0</td>\n",
       "      <td>0</td>\n",
       "    </tr>\n",
       "    <tr>\n",
       "      <th>3</th>\n",
       "      <td>1</td>\n",
       "      <td>0</td>\n",
       "      <td>0</td>\n",
       "      <td>0</td>\n",
       "      <td>21.0</td>\n",
       "      <td>45.129412</td>\n",
       "      <td>8.000000</td>\n",
       "      <td>1</td>\n",
       "      <td>1.375000</td>\n",
       "      <td>1.0</td>\n",
       "      <td>0</td>\n",
       "    </tr>\n",
       "    <tr>\n",
       "      <th>4</th>\n",
       "      <td>1</td>\n",
       "      <td>0</td>\n",
       "      <td>0</td>\n",
       "      <td>0</td>\n",
       "      <td>24.0</td>\n",
       "      <td>33.000000</td>\n",
       "      <td>9.300000</td>\n",
       "      <td>1</td>\n",
       "      <td>1.571000</td>\n",
       "      <td>1.0</td>\n",
       "      <td>0</td>\n",
       "    </tr>\n",
       "    <tr>\n",
       "      <th>5</th>\n",
       "      <td>1</td>\n",
       "      <td>0</td>\n",
       "      <td>0</td>\n",
       "      <td>0</td>\n",
       "      <td>26.0</td>\n",
       "      <td>35.000000</td>\n",
       "      <td>9.200000</td>\n",
       "      <td>1</td>\n",
       "      <td>1.571429</td>\n",
       "      <td>1.0</td>\n",
       "      <td>0</td>\n",
       "    </tr>\n",
       "    <tr>\n",
       "      <th>6</th>\n",
       "      <td>0</td>\n",
       "      <td>0</td>\n",
       "      <td>0</td>\n",
       "      <td>1</td>\n",
       "      <td>26.0</td>\n",
       "      <td>31.000000</td>\n",
       "      <td>9.038235</td>\n",
       "      <td>1</td>\n",
       "      <td>1.625000</td>\n",
       "      <td>1.0</td>\n",
       "      <td>0</td>\n",
       "    </tr>\n",
       "    <tr>\n",
       "      <th>7</th>\n",
       "      <td>1</td>\n",
       "      <td>0</td>\n",
       "      <td>0</td>\n",
       "      <td>0</td>\n",
       "      <td>22.0</td>\n",
       "      <td>30.000000</td>\n",
       "      <td>9.038235</td>\n",
       "      <td>1</td>\n",
       "      <td>1.689018</td>\n",
       "      <td>1.0</td>\n",
       "      <td>0</td>\n",
       "    </tr>\n",
       "    <tr>\n",
       "      <th>8</th>\n",
       "      <td>0</td>\n",
       "      <td>0</td>\n",
       "      <td>0</td>\n",
       "      <td>1</td>\n",
       "      <td>17.0</td>\n",
       "      <td>30.000000</td>\n",
       "      <td>9.000000</td>\n",
       "      <td>0</td>\n",
       "      <td>1.375000</td>\n",
       "      <td>1.0</td>\n",
       "      <td>0</td>\n",
       "    </tr>\n",
       "    <tr>\n",
       "      <th>9</th>\n",
       "      <td>0</td>\n",
       "      <td>0</td>\n",
       "      <td>1</td>\n",
       "      <td>0</td>\n",
       "      <td>35.0</td>\n",
       "      <td>45.129412</td>\n",
       "      <td>9.900000</td>\n",
       "      <td>1</td>\n",
       "      <td>1.571429</td>\n",
       "      <td>1.0</td>\n",
       "      <td>0</td>\n",
       "    </tr>\n",
       "  </tbody>\n",
       "</table>\n",
       "</div>"
      ],
      "text/plain": [
       "   1  2  3  4   Age     Weight        HB  IFA        BP  Residence  Result\n",
       "0  1  0  0  0  21.0  42.000000  9.200000    1  1.375000        1.0       0\n",
       "1  1  0  0  0  21.0  45.129412  8.800000    1  1.500000        1.0       0\n",
       "2  1  0  0  0  21.0  45.129412  9.200000    1  2.125000        1.0       0\n",
       "3  1  0  0  0  21.0  45.129412  8.000000    1  1.375000        1.0       0\n",
       "4  1  0  0  0  24.0  33.000000  9.300000    1  1.571000        1.0       0\n",
       "5  1  0  0  0  26.0  35.000000  9.200000    1  1.571429        1.0       0\n",
       "6  0  0  0  1  26.0  31.000000  9.038235    1  1.625000        1.0       0\n",
       "7  1  0  0  0  22.0  30.000000  9.038235    1  1.689018        1.0       0\n",
       "8  0  0  0  1  17.0  30.000000  9.000000    0  1.375000        1.0       0\n",
       "9  0  0  1  0  35.0  45.129412  9.900000    1  1.571429        1.0       0"
      ]
     },
     "execution_count": 34,
     "metadata": {},
     "output_type": "execute_result"
    }
   ],
   "source": [
    "# BP CLEANING & VIZ\n",
    "b=df['BP'].notnull()\n",
    "bps=df.BP[h]\n",
    "bps.describe()\n",
    "df.BP.fillna(bps.mean(),inplace=True)\n",
    "one_hot=pd.get_dummies(df['Community'])\n",
    "df=df.drop('Community',axis=1)\n",
    "df=df.join(one_hot)\n",
    "df=df.reindex(columns=[1,2,3,4,'Age','Weight','HB','IFA','BP','Residence','Result'])\n",
    "df.head(10)"
   ]
  },
  {
   "cell_type": "code",
   "execution_count": 35,
   "metadata": {},
   "outputs": [],
   "source": [
    "def sigmoid(Z):\n",
    "  return 1/(np.exp(-Z)+1)\n",
    "def relu(Z):\n",
    "  return np.maximum(0,Z)"
   ]
  },
  {
   "cell_type": "code",
   "execution_count": 36,
   "metadata": {},
   "outputs": [],
   "source": [
    "def init_parameters(dims):\n",
    "  parameters={}\n",
    "  for l in range(1,len(dims)):\n",
    "    parameters[\"W\"+ str(l)]=np.random.randn(dims[l],dims[l-1])*np.sqrt(2/dims[l-1])\n",
    "    parameters[\"b\"+ str(l)]=np.zeros(shape=(dims[l],1))\n",
    "    #limit=np.sqrt(6/(dims[l]+dims[l-1]))\n",
    "    # parameters[\"W\"+ str(l)]=np.random.uniform(-limit,limit,size=(dims[l],dims[l-1]))\n",
    "    # parameters[\"b\"+ str(l)]=np.random.uniform(-limit,limit,size=(dims[l],1))\n",
    "  return parameters\n",
    "\n",
    "def forward_activation(A,W,b,activation):\n",
    "  Z=W.dot(A)+b\n",
    "  if activation==\"relu\":\n",
    "    A_new=relu(Z)\n",
    "  elif activation==\"sigmoid\":\n",
    "    A_new=sigmoid(Z)\n",
    "  cache=((A,W,b),Z)\n",
    "  return A_new,cache\n",
    "\n",
    "def forward_propogate(X,parameters):\n",
    "  L=len(parameters)//2\n",
    "  caches=[]\n",
    "  A=X\n",
    "  for l in range(1,L):\n",
    "    A_prev=A\n",
    "    A,cache=forward_activation(A_prev,parameters[\"W\"+str(l)],parameters[\"b\"+str(l)],\"sigmoid\")\n",
    "    caches.append(cache)\n",
    "  #Last layer\n",
    "  O,cache=forward_activation(A,parameters[\"W\"+str(L)],parameters[\"b\"+str(L)],\"sigmoid\")\n",
    "  caches.append(cache)\n",
    "  return O,caches"
   ]
  },
  {
   "cell_type": "code",
   "execution_count": 37,
   "metadata": {},
   "outputs": [],
   "source": [
    "def compute_cost(O,Y,parameters,lambd):\n",
    "  assert(O.shape == Y.shape)\n",
    "  m=Y.shape[1]\n",
    "  #print(\"examples:\",m)\n",
    "  cost=(1./m)*(-np.dot(Y,np.log(O).T)-np.dot(1-Y,np.log(1-O).T))\n",
    "  cost=np.squeeze(cost)\n",
    "  assert(cost.shape==())\n",
    "  L=len(parameters)//2\n",
    "  reg_cost=0\n",
    "  for l in range(1,L+1):\n",
    "    reg_cost+=(1/m) * (lambd/2) * np.sum(parameters[\"W\"+str(l)]**2)\n",
    "  return cost   #+reg_cost"
   ]
  },
  {
   "cell_type": "code",
   "execution_count": 38,
   "metadata": {},
   "outputs": [],
   "source": [
    "#Back Propogation\n",
    "def relu_diff(da,z):\n",
    "  dz=da.copy()\n",
    "  dz[z<=0]=0\n",
    "  return dz\n",
    "def sigmoid_diff(da,z):\n",
    "  a=sigmoid(z)\n",
    "  dz=da*a*(1-a)\n",
    "  return dz\n",
    "\n",
    "def backward_activation(da,cache,activation):\n",
    "  cache1,cache2=cache\n",
    "  lambd=0.7\n",
    "  if activation==\"relu\":\n",
    "    dz=relu_diff(da,cache2)\n",
    "  elif activation==\"sigmoid\":\n",
    "    dz=sigmoid_diff(da,cache2)\n",
    "  a_prev,W,b=cache1\n",
    "  m=a_prev.shape[1]\n",
    "  da_prev=np.dot(W.T,dz)\n",
    "  dW=np.dot(dz,a_prev.T)*(1./m)#+(lambd/m) * W\n",
    "  db=np.sum(dz,axis=1,keepdims=True)*(1./m)\n",
    "  return da_prev,dW,db\n",
    "\n",
    "def back_propogate(O,Y,caches):\n",
    "  grads={}\n",
    "  m=O.shape[1]\n",
    "  L=len(caches)\n",
    "  Y=Y.reshape(O.shape)\n",
    "\n",
    "  dO=-(np.divide(Y,O)-np.divide(1-Y,1-O))\n",
    "  current_cache=caches[L-1]\n",
    "  grads[\"dA\"+str(L-1)],grads[\"dW\"+str(L)],grads[\"db\"+str(L)]=backward_activation(dO,current_cache,\"sigmoid\")\n",
    "\n",
    "  for l in reversed(range(L-1)):\n",
    "    current_cache=caches[l]\n",
    "    grads[\"dA\"+str(l)],grads[\"dW\"+str(l+1)],grads[\"db\"+str(l+1)]=backward_activation(grads[\"dA\"+str(l+1)],current_cache,\"sigmoid\")\n",
    "\n",
    "  return grads"
   ]
  },
  {
   "cell_type": "code",
   "execution_count": 39,
   "metadata": {},
   "outputs": [],
   "source": [
    "def update_parameters(parameters,v,grads,learning_rate):\n",
    "    L = len(parameters) // 2 # number of layers in the neural networks\n",
    "    beta=0.9\n",
    "    # Momentum update for each parameter\n",
    "    for l in range(L):\n",
    "        \n",
    "        ### START CODE HERE ### (approx. 4 lines)\n",
    "        # compute velocities\n",
    "        v[\"dW\" + str(l+1)] = beta * v[\"dW\" + str(l+1)] + (1-beta) * grads['dW' + str(l+1)]\n",
    "        v[\"db\" + str(l+1)] = beta * v[\"db\" + str(l+1)] + (1-beta) * grads['db' + str(l+1)]\n",
    "        # update parameters\n",
    "        parameters[\"W\" + str(l+1)] = parameters[\"W\" + str(l+1)] - learning_rate * v['dW' + str(l+1)]\n",
    "        parameters[\"b\" + str(l+1)] = parameters[\"b\" + str(l+1)] - learning_rate * v['db' + str(l+1)]\n",
    "        ### END CODE HERE ###\n",
    "        \n",
    "    return parameters, v"
   ]
  },
  {
   "cell_type": "code",
   "execution_count": 40,
   "metadata": {},
   "outputs": [],
   "source": [
    "def predict(X,Y,parameters):\n",
    "  #print(X[:,[0,5,10]])\n",
    "  m=X.shape[1]\n",
    "  n=len(parameters)//2\n",
    "  predictions=np.zeros((1,m))\n",
    "  prob,cache=forward_propogate(X,parameters)\n",
    "  for i in range(0,prob.shape[1]):\n",
    "    if prob[0][i] > 0.5:\n",
    "        predictions[0][i]=1\n",
    "    else:\n",
    "        predictions[0][i]=0\n",
    "  #print(\"Accuracy: \"+str(np.sum(predictions[0]==Y[0])))\n",
    "  print(\"Accuracy: \"  + str(np.sum((predictions == Y)/m)))\n",
    "  return predictions"
   ]
  },
  {
   "cell_type": "code",
   "execution_count": 41,
   "metadata": {},
   "outputs": [],
   "source": [
    "def initialize_velocity(parameters):\n",
    "    L = len(parameters) // 2 # number of layers in the neural networks\n",
    "    v = {}\n",
    "    \n",
    "    # Initialize velocity\n",
    "    for l in range(L):\n",
    "        ### START CODE HERE ### (approx. 2 lines)\n",
    "        v[\"dW\" + str(l+1)] = np.zeros_like(parameters['W' + str(l+1)])\n",
    "        v[\"db\" + str(l+1)] = np.zeros_like(parameters['b' + str(l+1)])\n",
    "        ### END CODE HERE ###\n",
    "        \n",
    "    return v"
   ]
  },
  {
   "cell_type": "code",
   "execution_count": 59,
   "metadata": {},
   "outputs": [],
   "source": [
    "def model(X,Y,layer_dims,learning_rate=1/3,num_iterations=3000,print_cost=False):\n",
    "  parameters=init_parameters(layers_dims)\n",
    "  v=initialize_velocity(parameters)\n",
    "  costs=[]\n",
    "  for i in range(num_iterations):\n",
    "    O,caches=forward_propogate(X,parameters)\n",
    "    cost=compute_cost(O,Y,parameters,0.7)\n",
    "    grads=back_propogate(O,Y,caches)\n",
    "    parameters,v=update_parameters(parameters,v,grads,learning_rate)\n",
    "    #print(O,len(O[0]))\n",
    "    if print_cost and i%5000==0:\n",
    "      print(\"Cost after\",i,\"iteration:\",cost)\n",
    "      costs.append(cost)\n",
    "  plt.plot(costs)\n",
    "  plt.ylabel('cost')\n",
    "  plt.xlabel('iterations per 100')\n",
    "  plt.title(\"learning rate=\"+str(learning_rate))\n",
    "  plt.show()\n",
    "\n",
    "  return parameters"
   ]
  },
  {
   "cell_type": "code",
   "execution_count": 60,
   "metadata": {},
   "outputs": [
    {
     "name": "stdout",
     "output_type": "stream",
     "text": [
      "24 72\n",
      "(10, 67) (10, 29) (67,) (29,) [ 1.          0.          0.          0.          0.07205876 -0.66746404\n",
      "  0.04416435  0.          1.571       1.        ] 1.0\n"
     ]
    }
   ],
   "source": [
    "data=df.to_numpy()\n",
    "X_temp=data[:,[4,5,6]]\n",
    "#print(X_temp[:5,:],np.sum(X_temp,axis=0))\n",
    "mean=np.sum(X_temp,axis=0)/X_temp.shape[0]\n",
    "X_temp-=mean\n",
    "#print(X_temp[:5,:])\n",
    "X_sigma=np.sum(X_temp**2,axis=0)/X_temp.shape[0]\n",
    "data[:,[4,5,6]]=X_temp/np.sqrt(X_sigma)\n",
    "np.savetxt(\"cleaned.csv\",data,delimiter=',')\n",
    "X=data[:,:-1]\n",
    "Y=data[:,-1]\n",
    "print(np.sum(Y==0),np.sum(Y==1))\n",
    "X_train,X_test,Y_train,Y_test=train_test_split(X,Y,test_size=.30,random_state=11)\n",
    "print(X_train.T.shape,X_test.T.shape,Y_train.T.shape,Y_test.T.shape,X_train.T[:,50],Y_train.reshape((1,len(Y_train)))[0,50])"
   ]
  },
  {
   "cell_type": "code",
   "execution_count": 65,
   "metadata": {},
   "outputs": [
    {
     "name": "stdout",
     "output_type": "stream",
     "text": [
      "Cost after 0 iteration: 0.8831783941097233\n",
      "Cost after 5000 iteration: 0.009155604848282832\n",
      "Cost after 10000 iteration: 0.0018838636098593617\n",
      "Cost after 15000 iteration: 0.0009658685262561159\n",
      "Cost after 20000 iteration: 0.0006330353373380506\n",
      "Cost after 25000 iteration: 0.000465174595095405\n",
      "Cost after 30000 iteration: 0.0003651699752810952\n",
      "Cost after 35000 iteration: 0.0002992489180990798\n",
      "Cost after 40000 iteration: 0.000252732853862616\n",
      "Cost after 45000 iteration: 0.00021826097235696067\n"
     ]
    },
    {
     "data": {
      "image/png": "[encoded data removed]",
      "text/plain": [
       "<Figure size 432x288 with 1 Axes>"
      ]
     },
     "metadata": {
      "needs_background": "light"
     },
     "output_type": "display_data"
    }
   ],
   "source": [
    "layers_dims=(10,3,3,1)\n",
    "parameters=model(X_train.T,Y_train.reshape((1,len(Y_train))),layers_dims,learning_rate=1/3,num_iterations=50000,print_cost=True)"
   ]
  },
  {
   "cell_type": "code",
   "execution_count": 66,
   "metadata": {},
   "outputs": [
    {
     "name": "stdout",
     "output_type": "stream",
     "text": [
      "Accuracy: 1.0\n"
     ]
    },
    {
     "data": {
      "text/plain": [
       "array([[1., 1., 1., 1., 1., 1., 0., 1., 1., 1., 0., 1., 1., 1., 1., 1.,\n",
       "        1., 0., 0., 1., 1., 1., 1., 0., 1., 1., 1., 1., 0., 0., 1., 0.,\n",
       "        0., 1., 1., 1., 1., 0., 1., 0., 1., 1., 1., 1., 0., 1., 1., 1.,\n",
       "        0., 0., 1., 0., 1., 1., 1., 1., 1., 1., 1., 1., 0., 1., 1., 1.,\n",
       "        1., 1., 1.]])"
      ]
     },
     "execution_count": 66,
     "metadata": {},
     "output_type": "execute_result"
    }
   ],
   "source": [
    "predict(X_train.T,Y_train.reshape((1,len(Y_train))),parameters)"
   ]
  },
  {
   "cell_type": "code",
   "execution_count": 67,
   "metadata": {},
   "outputs": [
    {
     "name": "stdout",
     "output_type": "stream",
     "text": [
      "Accuracy: 0.689655172413793\n"
     ]
    },
    {
     "data": {
      "text/plain": [
       "array([[0., 0., 0., 1., 1., 0., 1., 1., 1., 1., 1., 1., 1., 1., 1., 1.,\n",
       "        1., 0., 1., 1., 0., 1., 1., 1., 1., 0., 1., 1., 1.]])"
      ]
     },
     "execution_count": 67,
     "metadata": {},
     "output_type": "execute_result"
    }
   ],
   "source": [
    "predict(X_test.T,Y_test.reshape((1,len(Y_test))),parameters)"
   ]
  },
  {
   "cell_type": "code",
   "execution_count": 68,
   "metadata": {},
   "outputs": [
    {
     "data": {
      "text/plain": [
       "{'W1': array([[ 9.51510764e-01,  7.47746850e-01, -1.69273124e+00,\n",
       "          1.89122537e+00, -5.24785609e+00,  6.41095935e+00,\n",
       "          1.50281179e+00, -2.55478311e+00, -2.60061820e+00,\n",
       "          2.65187007e+00],\n",
       "        [-2.75863873e+00, -2.41841829e-01,  2.07077133e+00,\n",
       "         -1.16106370e+00,  3.16572136e+00, -5.99740608e+00,\n",
       "         -4.38229189e-01,  2.44514025e+00,  4.91963610e-02,\n",
       "         -3.75311896e+00],\n",
       "        [-2.73895633e+00,  1.58020442e-01,  8.60609907e-01,\n",
       "         -1.86693554e+00, -6.22140344e-04,  7.65779703e+00,\n",
       "          3.97192905e+00,  4.68736322e+00,  4.03444397e-01,\n",
       "          5.21708807e-01]]),\n",
       " 'b1': array([[ 1.57741045],\n",
       "        [-3.66015576],\n",
       "        [-2.70579906]]),\n",
       " 'W2': array([[-5.86583592, -6.10931749,  6.00539887],\n",
       "        [ 6.4617922 ,  6.78391223, -6.47859467],\n",
       "        [-0.41714302, -0.6702882 ,  1.62655352]]),\n",
       " 'b2': array([[ 2.66515796],\n",
       "        [-2.99313881],\n",
       "        [-0.20043084]]),\n",
       " 'W3': array([[ 11.5624829 , -13.13194227,   1.32710387]]),\n",
       " 'b3': array([[0.60670218]])}"
      ]
     },
     "execution_count": 68,
     "metadata": {},
     "output_type": "execute_result"
    }
   ],
   "source": [
    "parameters"
   ]
  }
 ],
 "metadata": {
  "kernelspec": {
   "display_name": "Python 3",
   "language": "python",
   "name": "python3"
  },
  "language_info": {
   "codemirror_mode": {
    "name": "ipython",
    "version": 3
   },
   "file_extension": ".py",
   "mimetype": "text/x-python",
   "name": "python",
   "nbconvert_exporter": "python",
   "pygments_lexer": "ipython3",
   "version": "3.7.6"
  }
 },
 "nbformat": 4,
 "nbformat_minor": 4
}
