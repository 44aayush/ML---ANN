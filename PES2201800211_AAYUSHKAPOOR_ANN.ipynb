{
 "cells": [
  {
   "cell_type": "code",
   "execution_count": 1,
   "metadata": {},
   "outputs": [
    {
     "name": "stdout",
     "output_type": "stream",
     "text": [
      "Shape: (96, 11)\n"
     ]
    },
    {
     "data": {
      "text/html": [
       "<div>\n",
       "<style scoped>\n",
       "    .dataframe tbody tr th:only-of-type {\n",
       "        vertical-align: middle;\n",
       "    }\n",
       "\n",
       "    .dataframe tbody tr th {\n",
       "        vertical-align: top;\n",
       "    }\n",
       "\n",
       "    .dataframe thead th {\n",
       "        text-align: right;\n",
       "    }\n",
       "</style>\n",
       "<table border=\"1\" class=\"dataframe\">\n",
       "  <thead>\n",
       "    <tr style=\"text-align: right;\">\n",
       "      <th></th>\n",
       "      <th>Unnamed: 0</th>\n",
       "      <th>community</th>\n",
       "      <th>age</th>\n",
       "      <th>weight</th>\n",
       "      <th>delivery_phase</th>\n",
       "      <th>hb</th>\n",
       "      <th>ifa</th>\n",
       "      <th>bp</th>\n",
       "      <th>education</th>\n",
       "      <th>residence</th>\n",
       "      <th>result</th>\n",
       "    </tr>\n",
       "  </thead>\n",
       "  <tbody>\n",
       "    <tr>\n",
       "      <th>0</th>\n",
       "      <td>0</td>\n",
       "      <td>1</td>\n",
       "      <td>21.0</td>\n",
       "      <td>42.0</td>\n",
       "      <td>1.0</td>\n",
       "      <td>9.2</td>\n",
       "      <td>1</td>\n",
       "      <td>1.375</td>\n",
       "      <td>5.0</td>\n",
       "      <td>1.0</td>\n",
       "      <td>0</td>\n",
       "    </tr>\n",
       "    <tr>\n",
       "      <th>1</th>\n",
       "      <td>1</td>\n",
       "      <td>1</td>\n",
       "      <td>21.0</td>\n",
       "      <td>36.0</td>\n",
       "      <td>1.0</td>\n",
       "      <td>8.8</td>\n",
       "      <td>1</td>\n",
       "      <td>1.500</td>\n",
       "      <td>5.0</td>\n",
       "      <td>1.0</td>\n",
       "      <td>0</td>\n",
       "    </tr>\n",
       "    <tr>\n",
       "      <th>2</th>\n",
       "      <td>2</td>\n",
       "      <td>1</td>\n",
       "      <td>21.0</td>\n",
       "      <td>36.0</td>\n",
       "      <td>1.0</td>\n",
       "      <td>9.2</td>\n",
       "      <td>1</td>\n",
       "      <td>2.125</td>\n",
       "      <td>5.0</td>\n",
       "      <td>1.0</td>\n",
       "      <td>0</td>\n",
       "    </tr>\n",
       "    <tr>\n",
       "      <th>3</th>\n",
       "      <td>3</td>\n",
       "      <td>1</td>\n",
       "      <td>21.0</td>\n",
       "      <td>36.0</td>\n",
       "      <td>1.0</td>\n",
       "      <td>8.0</td>\n",
       "      <td>1</td>\n",
       "      <td>1.375</td>\n",
       "      <td>5.0</td>\n",
       "      <td>1.0</td>\n",
       "      <td>0</td>\n",
       "    </tr>\n",
       "    <tr>\n",
       "      <th>4</th>\n",
       "      <td>4</td>\n",
       "      <td>1</td>\n",
       "      <td>24.0</td>\n",
       "      <td>33.0</td>\n",
       "      <td>1.0</td>\n",
       "      <td>9.3</td>\n",
       "      <td>1</td>\n",
       "      <td>1.571</td>\n",
       "      <td>5.0</td>\n",
       "      <td>1.0</td>\n",
       "      <td>0</td>\n",
       "    </tr>\n",
       "  </tbody>\n",
       "</table>\n",
       "</div>"
      ],
      "text/plain": [
       "   Unnamed: 0  community   age  weight  delivery_phase   hb  ifa     bp  \\\n",
       "0           0          1  21.0    42.0             1.0  9.2    1  1.375   \n",
       "1           1          1  21.0    36.0             1.0  8.8    1  1.500   \n",
       "2           2          1  21.0    36.0             1.0  9.2    1  2.125   \n",
       "3           3          1  21.0    36.0             1.0  8.0    1  1.375   \n",
       "4           4          1  24.0    33.0             1.0  9.3    1  1.571   \n",
       "\n",
       "   education  residence  result  \n",
       "0        5.0        1.0       0  \n",
       "1        5.0        1.0       0  \n",
       "2        5.0        1.0       0  \n",
       "3        5.0        1.0       0  \n",
       "4        5.0        1.0       0  "
      ]
     },
     "execution_count": 1,
     "metadata": {},
     "output_type": "execute_result"
    }
   ],
   "source": [
    "import numpy as np\n",
    "import pandas as pd\n",
    "import matplotlib.pyplot as plt\n",
    "from sklearn.model_selection import train_test_split\n",
    "\n",
    "df=pd.read_csv(\"cleaned_data_PES2201800211.csv\")\n",
    "print(\"Shape:\",df.shape)\n",
    "df.head()"
   ]
  },
  {
   "cell_type": "code",
   "execution_count": 2,
   "metadata": {},
   "outputs": [
    {
     "data": {
      "text/plain": [
       "Unnamed: 0        0\n",
       "community         0\n",
       "age               0\n",
       "weight            0\n",
       "delivery_phase    0\n",
       "hb                0\n",
       "ifa               0\n",
       "bp                0\n",
       "education         0\n",
       "residence         0\n",
       "result            0\n",
       "dtype: int64"
      ]
     },
     "execution_count": 2,
     "metadata": {},
     "output_type": "execute_result"
    }
   ],
   "source": [
    "nulls=df.isnull().sum()\n",
    "nulls\n",
    "#(nulls*100)/96"
   ]
  },
  {
   "cell_type": "code",
   "execution_count": 3,
   "metadata": {},
   "outputs": [
    {
     "name": "stdout",
     "output_type": "stream",
     "text": [
      "No.of 1's 83\n",
      "No.of 2's 13\n"
     ]
    }
   ],
   "source": [
    "#Residence counts\n",
    "print(\"No.of 1's\",np.sum(df[\"residence\"]==1))\n",
    "print(\"No.of 2's\",np.sum(df[\"residence\"]==2))\n",
    "df.residence.values[df.residence.values==1]=0\n",
    "df.residence.values[df.residence.values==2]=1\n",
    "# df.Residence.fillna(0,inplace=True)"
   ]
  },
  {
   "cell_type": "code",
   "execution_count": 4,
   "metadata": {},
   "outputs": [
    {
     "name": "stdout",
     "output_type": "stream",
     "text": [
      "No.of 1's 94\n",
      "No.of 2's 2\n"
     ]
    }
   ],
   "source": [
    "#Delivery Phase\n",
    "print(\"No.of 1's\",np.sum(df[\"delivery_phase\"]==1))\n",
    "print(\"No.of 2's\",np.sum(df[\"delivery_phase\"]==2))\n",
    "# df.drop(['delivery_phase','education'],axis=1,inplace=True)"
   ]
  },
  {
   "cell_type": "code",
   "execution_count": 5,
   "metadata": {},
   "outputs": [
    {
     "name": "stdout",
     "output_type": "stream",
     "text": [
      "No.of 1's 30\n",
      "No.of 2's 66\n"
     ]
    }
   ],
   "source": [
    "# IFA\n",
    "print(\"No.of 1's\",np.sum(df[\"ifa\"]==0))\n",
    "print(\"No.of 2's\",np.sum(df[\"ifa\"]==1))"
   ]
  },
  {
   "cell_type": "code",
   "execution_count": 6,
   "metadata": {},
   "outputs": [
    {
     "name": "stdout",
     "output_type": "stream",
     "text": [
      "count    96.000000\n",
      "mean     23.753053\n",
      "std       3.196334\n",
      "min      17.000000\n",
      "25%      21.000000\n",
      "50%      24.000000\n",
      "75%      25.250000\n",
      "max      38.000000\n",
      "Name: age, dtype: float64\n"
     ]
    },
    {
     "data": {
      "image/png": "[encoded data removed]",
      "text/plain": [
       "<Figure size 432x288 with 1 Axes>"
      ]
     },
     "metadata": {
      "needs_background": "light"
     },
     "output_type": "display_data"
    },
    {
     "name": "stdout",
     "output_type": "stream",
     "text": [
      "23.753052917232026\n"
     ]
    }
   ],
   "source": [
    "ages=df[\"age\"].notnull()\n",
    "age=df[\"age\"]\n",
    "ages=age[ages]\n",
    "print(ages.describe())\n",
    "plt.hist(ages,bins=20)\n",
    "plt.show()\n",
    "age.fillna(ages.median(),inplace=True)\n",
    "print(df['age'].mean())"
   ]
  },
  {
   "cell_type": "code",
   "execution_count": 7,
   "metadata": {},
   "outputs": [
    {
     "data": {
      "image/png": "[encoded data removed]",
      "text/plain": [
       "<Figure size 432x288 with 1 Axes>"
      ]
     },
     "metadata": {
      "needs_background": "light"
     },
     "output_type": "display_data"
    },
    {
     "data": {
      "image/png": "[encoded data removed]",
      "text/plain": [
       "<Figure size 432x288 with 1 Axes>"
      ]
     },
     "metadata": {
      "needs_background": "light"
     },
     "output_type": "display_data"
    },
    {
     "data": {
      "image/png": "[encoded data removed]",
      "text/plain": [
       "<Figure size 432x288 with 1 Axes>"
      ]
     },
     "metadata": {
      "needs_background": "light"
     },
     "output_type": "display_data"
    },
    {
     "name": "stdout",
     "output_type": "stream",
     "text": [
      "count    96.000000\n",
      "mean     44.083333\n",
      "std       8.259816\n",
      "min      30.000000\n",
      "25%      39.000000\n",
      "50%      42.000000\n",
      "75%      49.250000\n",
      "max      65.000000\n",
      "Name: weight, dtype: float64\n"
     ]
    }
   ],
   "source": [
    "wts=df['weight'].notnull()\n",
    "cor_age=df.age[wts]\n",
    "cor_wts=df.weight[wts]\n",
    "plt.boxplot(df.age)\n",
    "plt.show()\n",
    "plt.boxplot(df.weight)\n",
    "plt.show()\n",
    "cor=np.cov(cor_age,cor_wts)\n",
    "cor[0,1]/(cor_age.std()*cor_wts.std())\n",
    "plt.scatter(cor_age,cor_wts)\n",
    "plt.show()\n",
    "print(cor_wts.describe())\n",
    "df.weight.fillna(cor_wts.mean(),inplace=True)"
   ]
  },
  {
   "cell_type": "code",
   "execution_count": 8,
   "metadata": {},
   "outputs": [
    {
     "data": {
      "image/png": "[encoded data removed]",
      "text/plain": [
       "<Figure size 432x288 with 1 Axes>"
      ]
     },
     "metadata": {
      "needs_background": "light"
     },
     "output_type": "display_data"
    }
   ],
   "source": [
    "h=df['hb'].notnull()\n",
    "hbs=df.hb[h].to_numpy()\n",
    "lo=hbs>=8.45\n",
    "hi=hbs<=9.65\n",
    "hb=hbs[lo & hi]\n",
    "plt.boxplot(hbs)\n",
    "plt.show()\n",
    "#print(pd.Series(hbs).describe(),pd.Series(hb).describe())\n",
    "df.hb.fillna(hb.mean(),inplace=True)"
   ]
  },
  {
   "cell_type": "code",
   "execution_count": 9,
   "metadata": {},
   "outputs": [
    {
     "data": {
      "text/html": [
       "<div>\n",
       "<style scoped>\n",
       "    .dataframe tbody tr th:only-of-type {\n",
       "        vertical-align: middle;\n",
       "    }\n",
       "\n",
       "    .dataframe tbody tr th {\n",
       "        vertical-align: top;\n",
       "    }\n",
       "\n",
       "    .dataframe thead th {\n",
       "        text-align: right;\n",
       "    }\n",
       "</style>\n",
       "<table border=\"1\" class=\"dataframe\">\n",
       "  <thead>\n",
       "    <tr style=\"text-align: right;\">\n",
       "      <th></th>\n",
       "      <th>1</th>\n",
       "      <th>4</th>\n",
       "      <th>age</th>\n",
       "      <th>weight</th>\n",
       "      <th>hb</th>\n",
       "      <th>delivery_phase</th>\n",
       "      <th>education</th>\n",
       "      <th>ifa</th>\n",
       "      <th>bp</th>\n",
       "      <th>residence</th>\n",
       "      <th>result</th>\n",
       "    </tr>\n",
       "  </thead>\n",
       "  <tbody>\n",
       "    <tr>\n",
       "      <th>0</th>\n",
       "      <td>1</td>\n",
       "      <td>0</td>\n",
       "      <td>21.0</td>\n",
       "      <td>42.0</td>\n",
       "      <td>9.2</td>\n",
       "      <td>1.0</td>\n",
       "      <td>5.0</td>\n",
       "      <td>1</td>\n",
       "      <td>1.375</td>\n",
       "      <td>0.0</td>\n",
       "      <td>0</td>\n",
       "    </tr>\n",
       "    <tr>\n",
       "      <th>1</th>\n",
       "      <td>1</td>\n",
       "      <td>0</td>\n",
       "      <td>21.0</td>\n",
       "      <td>36.0</td>\n",
       "      <td>8.8</td>\n",
       "      <td>1.0</td>\n",
       "      <td>5.0</td>\n",
       "      <td>1</td>\n",
       "      <td>1.500</td>\n",
       "      <td>0.0</td>\n",
       "      <td>0</td>\n",
       "    </tr>\n",
       "    <tr>\n",
       "      <th>2</th>\n",
       "      <td>1</td>\n",
       "      <td>0</td>\n",
       "      <td>21.0</td>\n",
       "      <td>36.0</td>\n",
       "      <td>9.2</td>\n",
       "      <td>1.0</td>\n",
       "      <td>5.0</td>\n",
       "      <td>1</td>\n",
       "      <td>2.125</td>\n",
       "      <td>0.0</td>\n",
       "      <td>0</td>\n",
       "    </tr>\n",
       "    <tr>\n",
       "      <th>3</th>\n",
       "      <td>1</td>\n",
       "      <td>0</td>\n",
       "      <td>21.0</td>\n",
       "      <td>36.0</td>\n",
       "      <td>8.0</td>\n",
       "      <td>1.0</td>\n",
       "      <td>5.0</td>\n",
       "      <td>1</td>\n",
       "      <td>1.375</td>\n",
       "      <td>0.0</td>\n",
       "      <td>0</td>\n",
       "    </tr>\n",
       "    <tr>\n",
       "      <th>4</th>\n",
       "      <td>1</td>\n",
       "      <td>0</td>\n",
       "      <td>24.0</td>\n",
       "      <td>33.0</td>\n",
       "      <td>9.3</td>\n",
       "      <td>1.0</td>\n",
       "      <td>5.0</td>\n",
       "      <td>1</td>\n",
       "      <td>1.571</td>\n",
       "      <td>0.0</td>\n",
       "      <td>0</td>\n",
       "    </tr>\n",
       "  </tbody>\n",
       "</table>\n",
       "</div>"
      ],
      "text/plain": [
       "   1  4   age  weight   hb  delivery_phase  education  ifa     bp  residence  \\\n",
       "0  1  0  21.0    42.0  9.2             1.0        5.0    1  1.375        0.0   \n",
       "1  1  0  21.0    36.0  8.8             1.0        5.0    1  1.500        0.0   \n",
       "2  1  0  21.0    36.0  9.2             1.0        5.0    1  2.125        0.0   \n",
       "3  1  0  21.0    36.0  8.0             1.0        5.0    1  1.375        0.0   \n",
       "4  1  0  24.0    33.0  9.3             1.0        5.0    1  1.571        0.0   \n",
       "\n",
       "   result  \n",
       "0       0  \n",
       "1       0  \n",
       "2       0  \n",
       "3       0  \n",
       "4       0  "
      ]
     },
     "execution_count": 9,
     "metadata": {},
     "output_type": "execute_result"
    }
   ],
   "source": [
    "\n",
    "b=df['bp'].notnull()\n",
    "bps=df.bp[h]\n",
    "bps.describe()\n",
    "df.bp.fillna(bps.mean(),inplace=True)\n",
    "one_hot=pd.get_dummies(df['community'])\n",
    "df=df.drop('community',axis=1)\n",
    "df=df.join(one_hot)\n",
    "df=df.reindex(columns=[1,4,'age','weight','hb','delivery_phase','education','ifa','bp','residence','result'])\n",
    "df.head()"
   ]
  },
  {
   "cell_type": "code",
   "execution_count": 10,
   "metadata": {},
   "outputs": [],
   "source": [
    "def sigmoid(Z):\n",
    "  return 1/(np.exp(-Z)+1)\n",
    "def relu(Z):\n",
    "  return np.maximum(0,Z)"
   ]
  },
  {
   "cell_type": "code",
   "execution_count": 11,
   "metadata": {},
   "outputs": [],
   "source": [
    "def init_parameters(dims):\n",
    "  parameters={}\n",
    "  for l in range(1,len(dims)):\n",
    "    parameters[\"W\"+ str(l)]=np.random.randn(dims[l],dims[l-1])*np.sqrt(2/dims[l-1])\n",
    "    parameters[\"b\"+ str(l)]=np.zeros(shape=(dims[l],1))\n",
    "    #limit=np.sqrt(6/(dims[l]+dims[l-1]))\n",
    "    # parameters[\"W\"+ str(l)]=np.random.uniform(-limit,limit,size=(dims[l],dims[l-1]))\n",
    "    # parameters[\"b\"+ str(l)]=np.random.uniform(-limit,limit,size=(dims[l],1))\n",
    "  return parameters\n",
    "\n",
    "def forward_activation(A,W,b,activation):\n",
    "  Z=W.dot(A)+b\n",
    "  if activation==\"relu\":\n",
    "    A_new=relu(Z)\n",
    "  elif activation==\"sigmoid\":\n",
    "    A_new=sigmoid(Z)\n",
    "  cache=((A,W,b),Z)\n",
    "  return A_new,cache\n",
    "\n",
    "def forward_propogate(X,parameters):\n",
    "  L=len(parameters)//2\n",
    "  caches=[]\n",
    "  A=X\n",
    "  for l in range(1,L):\n",
    "    A_prev=A\n",
    "    A,cache=forward_activation(A_prev,parameters[\"W\"+str(l)],parameters[\"b\"+str(l)],\"sigmoid\")\n",
    "    caches.append(cache)\n",
    "  #Last layer\n",
    "  O,cache=forward_activation(A,parameters[\"W\"+str(L)],parameters[\"b\"+str(L)],\"sigmoid\")\n",
    "  caches.append(cache)\n",
    "  return O,caches"
   ]
  },
  {
   "cell_type": "code",
   "execution_count": 12,
   "metadata": {},
   "outputs": [],
   "source": [
    "def compute_cost(O,Y,parameters,lambd):\n",
    "  assert(O.shape == Y.shape)\n",
    "  m=Y.shape[1]\n",
    "  #print(\"examples:\",m)\n",
    "  cost=(1./m)*(-np.dot(Y,np.log(O).T)-np.dot(1-Y,np.log(1-O).T))\n",
    "  cost=np.squeeze(cost)\n",
    "  assert(cost.shape==())\n",
    "  L=len(parameters)//2\n",
    "  reg_cost=0\n",
    "  for l in range(1,L+1):\n",
    "    reg_cost+=(1/m) * (lambd/2) * np.sum(parameters[\"W\"+str(l)]**2)\n",
    "  return cost   #+reg_cost"
   ]
  },
  {
   "cell_type": "code",
   "execution_count": 13,
   "metadata": {},
   "outputs": [],
   "source": [
    "#Back Propogation\n",
    "def relu_diff(da,z):\n",
    "  dz=da.copy()\n",
    "  dz[z<=0]=0\n",
    "  return dz\n",
    "def sigmoid_diff(da,z):\n",
    "  a=sigmoid(z)\n",
    "  dz=da*a*(1-a)\n",
    "  return dz\n",
    "\n",
    "def backward_activation(da,cache,activation):\n",
    "  cache1,cache2=cache\n",
    "  lambd=0.7\n",
    "  if activation==\"relu\":\n",
    "    dz=relu_diff(da,cache2)\n",
    "  elif activation==\"sigmoid\":\n",
    "    dz=sigmoid_diff(da,cache2)\n",
    "  a_prev,W,b=cache1\n",
    "  m=a_prev.shape[1]\n",
    "  da_prev=np.dot(W.T,dz)\n",
    "  dW=np.dot(dz,a_prev.T)*(1./m)#+(lambd/m) * W\n",
    "  db=np.sum(dz,axis=1,keepdims=True)*(1./m)\n",
    "  return da_prev,dW,db\n",
    "\n",
    "def back_propogate(O,Y,caches):\n",
    "  grads={}\n",
    "  m=O.shape[1]\n",
    "  L=len(caches)\n",
    "  Y=Y.reshape(O.shape)\n",
    "\n",
    "  dO=-(np.divide(Y,O)-np.divide(1-Y,1-O))\n",
    "  current_cache=caches[L-1]\n",
    "  grads[\"dA\"+str(L-1)],grads[\"dW\"+str(L)],grads[\"db\"+str(L)]=backward_activation(dO,current_cache,\"sigmoid\")\n",
    "\n",
    "  for l in reversed(range(L-1)):\n",
    "    current_cache=caches[l]\n",
    "    grads[\"dA\"+str(l)],grads[\"dW\"+str(l+1)],grads[\"db\"+str(l+1)]=backward_activation(grads[\"dA\"+str(l+1)],current_cache,\"sigmoid\")\n",
    "\n",
    "  return grads"
   ]
  },
  {
   "cell_type": "code",
   "execution_count": 14,
   "metadata": {},
   "outputs": [],
   "source": [
    "def update_parameters(parameters,v,grads,learning_rate):\n",
    "    L = len(parameters) // 2 # number of layers in the neural networks\n",
    "    beta=0.9\n",
    "    # Momentum update for each parameter\n",
    "    for l in range(L):\n",
    "        \n",
    "        ### START CODE HERE ### (approx. 4 lines)\n",
    "        # compute velocities\n",
    "        v[\"dW\" + str(l+1)] = beta * v[\"dW\" + str(l+1)] + (1-beta) * grads['dW' + str(l+1)]\n",
    "        v[\"db\" + str(l+1)] = beta * v[\"db\" + str(l+1)] + (1-beta) * grads['db' + str(l+1)]\n",
    "        # update parameters\n",
    "        parameters[\"W\" + str(l+1)] = parameters[\"W\" + str(l+1)] - learning_rate * v['dW' + str(l+1)]\n",
    "        parameters[\"b\" + str(l+1)] = parameters[\"b\" + str(l+1)] - learning_rate * v['db' + str(l+1)]\n",
    "        ### END CODE HERE ###\n",
    "        \n",
    "    return parameters, v"
   ]
  },
  {
   "cell_type": "code",
   "execution_count": 15,
   "metadata": {},
   "outputs": [],
   "source": [
    "def predict(X,Y,parameters):\n",
    "  #print(X[:,[0,5,10]])\n",
    "  m=X.shape[1]\n",
    "  n=len(parameters)//2\n",
    "  predictions=np.zeros((1,m))\n",
    "  prob,cache=forward_propogate(X,parameters)\n",
    "  for i in range(0,prob.shape[1]):\n",
    "    if prob[0][i] > 0.5:\n",
    "        predictions[0][i]=1\n",
    "    else:\n",
    "        predictions[0][i]=0\n",
    "  #print(\"Accuracy: \"+str(np.sum(predictions[0]==Y[0])))\n",
    "  print(\"Accuracy: \"  + str(np.sum((predictions == Y)/m)))\n",
    "  return predictions"
   ]
  },
  {
   "cell_type": "code",
   "execution_count": 16,
   "metadata": {},
   "outputs": [],
   "source": [
    "def initialize_velocity(parameters):\n",
    "    L = len(parameters) // 2 # number of layers in the neural networks\n",
    "    v = {}\n",
    "    \n",
    "    # Initialize velocity\n",
    "    for l in range(L):\n",
    "        ### START CODE HERE ### (approx. 2 lines)\n",
    "        v[\"dW\" + str(l+1)] = np.zeros_like(parameters['W' + str(l+1)])\n",
    "        v[\"db\" + str(l+1)] = np.zeros_like(parameters['b' + str(l+1)])\n",
    "        ### END CODE HERE ###\n",
    "        \n",
    "    return v"
   ]
  },
  {
   "cell_type": "code",
   "execution_count": 40,
   "metadata": {},
   "outputs": [],
   "source": [
    "def model(X,Y,layer_dims,learning_rate=1/3,num_iterations=5000,print_cost=False):\n",
    "  parameters=init_parameters(layers_dims)\n",
    "  v=initialize_velocity(parameters)\n",
    "  costs=[]\n",
    "  for i in range(num_iterations):\n",
    "    O,caches=forward_propogate(X,parameters)\n",
    "    cost=compute_cost(O,Y,parameters,0.7)\n",
    "    grads=back_propogate(O,Y,caches)\n",
    "    parameters,v=update_parameters(parameters,v,grads,learning_rate)\n",
    "    #print(O,len(O[0]))\n",
    "    if print_cost and i%5000==0:\n",
    "      print(\"Cost after\",i,\"iteration:\",cost)\n",
    "      costs.append(cost)\n",
    "  plt.plot(costs)\n",
    "  plt.ylabel('cost')\n",
    "  plt.xlabel('iterations per 100')\n",
    "  plt.title(\"learning rate=\"+str(learning_rate))\n",
    "  plt.show()\n",
    "\n",
    "  return parameters"
   ]
  },
  {
   "cell_type": "code",
   "execution_count": 41,
   "metadata": {},
   "outputs": [
    {
     "name": "stdout",
     "output_type": "stream",
     "text": [
      "24 72\n",
      "(10, 67) (10, 29) (67,) (29,) [ 1.00000000e+00  0.00000000e+00  2.37313433e+01  4.00000000e+01\n",
      "  3.20370495e-02 -1.45864991e-01  1.79605302e-01  0.00000000e+00\n",
      "  1.57100000e+00  0.00000000e+00] 1.0\n"
     ]
    }
   ],
   "source": [
    "data=df.to_numpy()\n",
    "X_temp=data[:,[4,5,6]]\n",
    "#print(X_temp[:5,:],np.sum(X_temp,axis=0))\n",
    "mean=np.sum(X_temp,axis=0)/X_temp.shape[0]\n",
    "X_temp-=mean\n",
    "#print(X_temp[:5,:])\n",
    "X_sigma=np.sum(X_temp**2,axis=0)/X_temp.shape[0]\n",
    "data[:,[4,5,6]]=X_temp/np.sqrt(X_sigma)\n",
    "np.savetxt(\"cleaned.csv\",data,delimiter=',')\n",
    "X=data[:,:-1]\n",
    "Y=data[:,-1]\n",
    "print(np.sum(Y==0),np.sum(Y==1))\n",
    "X_train,X_test,Y_train,Y_test=train_test_split(X,Y,test_size=.30,random_state=11)\n",
    "print(X_train.T.shape,X_test.T.shape,Y_train.T.shape,Y_test.T.shape,X_train.T[:,50],Y_train.reshape((1,len(Y_train)))[0,50])"
   ]
  },
  {
   "cell_type": "code",
   "execution_count": 42,
   "metadata": {},
   "outputs": [
    {
     "name": "stdout",
     "output_type": "stream",
     "text": [
      "Cost after 0 iteration: 0.7806283409582891\n",
      "Cost after 5000 iteration: 0.284738545406905\n",
      "Cost after 10000 iteration: 0.2786475349867288\n",
      "Cost after 15000 iteration: 0.2768974470649255\n",
      "Cost after 20000 iteration: 0.2760072373526942\n",
      "Cost after 25000 iteration: 0.2754334824728655\n",
      "Cost after 30000 iteration: 0.2750155687005144\n",
      "Cost after 35000 iteration: 0.2746837449127953\n",
      "Cost after 40000 iteration: 0.2743936958184665\n",
      "Cost after 45000 iteration: 0.2741251673015571\n",
      "Cost after 50000 iteration: 0.27391332167168175\n",
      "Cost after 55000 iteration: 0.273754154470568\n",
      "Cost after 60000 iteration: 0.27362904319920045\n",
      "Cost after 65000 iteration: 0.2735286175476887\n",
      "Cost after 70000 iteration: 0.2734466482282858\n",
      "Cost after 75000 iteration: 0.27337872105191474\n"
     ]
    },
    {
     "data": {
      "image/png": "[encoded data removed]",
      "text/plain": [
       "<Figure size 432x288 with 1 Axes>"
      ]
     },
     "metadata": {
      "needs_background": "light"
     },
     "output_type": "display_data"
    }
   ],
   "source": [
    "layers_dims=(10,10,3,1)\n",
    "parameters=model(X_train.T,Y_train.reshape((1,len(Y_train))),layers_dims,learning_rate=0.3,num_iterations=80000,print_cost=True)"
   ]
  },
  {
   "cell_type": "code",
   "execution_count": 43,
   "metadata": {},
   "outputs": [
    {
     "name": "stdout",
     "output_type": "stream",
     "text": [
      "Accuracy: 0.8805970149253732\n"
     ]
    },
    {
     "data": {
      "text/plain": [
       "array([[1., 1., 1., 1., 1., 1., 0., 1., 1., 1., 0., 1., 1., 1., 1., 1.,\n",
       "        1., 1., 1., 1., 1., 1., 1., 0., 1., 1., 1., 1., 1., 1., 1., 0.,\n",
       "        1., 1., 1., 1., 1., 0., 1., 0., 1., 1., 1., 1., 1., 1., 1., 1.,\n",
       "        1., 1., 1., 0., 1., 1., 1., 1., 1., 1., 1., 1., 0., 1., 1., 1.,\n",
       "        1., 1., 1.]])"
      ]
     },
     "execution_count": 43,
     "metadata": {},
     "output_type": "execute_result"
    }
   ],
   "source": [
    "predict(X_train.T,Y_train.reshape((1,len(Y_train))),parameters)"
   ]
  },
  {
   "cell_type": "code",
   "execution_count": 44,
   "metadata": {},
   "outputs": [
    {
     "name": "stdout",
     "output_type": "stream",
     "text": [
      "Accuracy: 0.793103448275862\n"
     ]
    },
    {
     "data": {
      "text/plain": [
       "array([[1., 0., 1., 1., 1., 1., 1., 1., 1., 1., 1., 1., 1., 1., 1., 1.,\n",
       "        1., 0., 1., 1., 0., 0., 0., 1., 1., 0., 1., 0., 0.]])"
      ]
     },
     "execution_count": 44,
     "metadata": {},
     "output_type": "execute_result"
    }
   ],
   "source": [
    "predict(X_test.T,Y_test.reshape((1,len(Y_test))),parameters)"
   ]
  },
  {
   "cell_type": "code",
   "execution_count": 46,
   "metadata": {},
   "outputs": [
    {
     "data": {
      "text/plain": [
       "{'W1': array([[ 5.48157903e+00,  1.15754058e+00,  6.03453481e+00,\n",
       "         -3.34753978e+00,  9.21840257e+00, -4.89910686e-02,\n",
       "          9.09799058e-01,  2.41175324e+00,  2.50612324e+00,\n",
       "          1.20673611e+00],\n",
       "        [-8.38935453e-02, -1.46912597e-01, -4.61683159e-02,\n",
       "          1.23155749e+00,  3.60725074e-01, -5.35938711e-01,\n",
       "         -2.95687652e-01, -5.94966566e-03,  7.28266244e-01,\n",
       "          7.02445658e-01],\n",
       "        [-6.47560696e-02,  1.78203877e-01,  6.37128312e-01,\n",
       "         -1.60475282e-02, -1.76947419e-01, -6.68700747e-01,\n",
       "          1.97326818e-01,  2.61473111e-03,  1.25714197e-01,\n",
       "          6.14711452e-01],\n",
       "        [-1.69886495e-03,  1.84496653e-01,  6.63708402e-02,\n",
       "          1.12752384e+00, -9.04665908e-02, -5.06294377e-02,\n",
       "          8.14983782e-01, -2.40567742e-01, -3.27378887e-01,\n",
       "          4.98672169e-01],\n",
       "        [-1.83266974e-01,  1.68219725e-01, -7.16926091e-02,\n",
       "          5.49056891e-01,  1.10343274e-02,  6.19318486e-01,\n",
       "          2.30084735e-01, -5.31674916e-01,  1.44670160e-01,\n",
       "         -1.79388731e-01],\n",
       "        [ 1.86508187e-01,  4.15206254e-01,  2.32204802e-01,\n",
       "          7.49014435e-01, -7.12167053e-02,  3.96664245e-01,\n",
       "         -2.27369553e-01,  8.53081071e-02,  2.96279315e-01,\n",
       "          4.05445880e-01],\n",
       "        [-4.45357776e-01,  6.85990686e-01, -2.44969106e-01,\n",
       "         -1.37270093e+00, -7.49527215e-01, -8.91706909e-01,\n",
       "         -7.92258428e-01, -7.27601802e-01,  1.57523366e+00,\n",
       "          1.02937620e+00],\n",
       "        [ 1.54887575e-01, -1.15924953e+00, -1.89195903e-01,\n",
       "          1.51989524e+00,  9.06532335e-01,  7.71207047e-01,\n",
       "          7.90189203e-01,  7.91788439e-01, -2.26336640e-01,\n",
       "         -1.37538896e+00],\n",
       "        [-4.65661533e+00, -3.16582635e-01,  6.49178135e+00,\n",
       "         -4.11556863e+00, -2.43856084e+00, -3.42525603e-01,\n",
       "         -2.58371051e+00, -4.32753642e+00,  1.07802582e+00,\n",
       "         -1.19793401e+00],\n",
       "        [ 5.27368794e-02, -6.86356507e-01, -4.75427277e-01,\n",
       "         -1.40017974e-01,  1.58715063e-02, -3.28849553e-03,\n",
       "         -3.09092169e-02, -2.43162059e-01, -1.44533764e-01,\n",
       "         -8.40106102e-01]]),\n",
       " 'b1': array([[ 4.81494306e+00],\n",
       "        [ 0.00000000e+00],\n",
       "        [ 5.57636913e-03],\n",
       "        [-1.65402571e-13],\n",
       "        [ 3.87068247e-05],\n",
       "        [ 5.68537602e-11],\n",
       "        [ 4.73592855e-01],\n",
       "        [-6.59825070e-01],\n",
       "        [ 7.78901266e-01],\n",
       "        [-1.32333984e-04]]),\n",
       " 'W2': array([[ 6.43214542, -0.42126592, -0.41293467, -0.07466049,  0.32445589,\n",
       "         -0.09746867,  1.30863488, -1.64913887,  2.53676673,  0.25611413],\n",
       "        [ 1.08940629, -0.40721062,  0.38494064,  0.0876799 ,  0.03956416,\n",
       "         -0.50146272, -1.25818717,  0.71753367,  0.85203379,  0.3440955 ],\n",
       "        [-1.64940268,  0.17972082,  0.62290334,  0.78059456, -0.12936815,\n",
       "         -0.08844034, -2.4620506 ,  3.85508723, -6.32909222,  0.44585056]]),\n",
       " 'b2': array([[ 0.01765959],\n",
       "        [-0.24087556],\n",
       "        [ 0.54748857]]),\n",
       " 'W3': array([[-8.16253625, -1.0569249 , 10.60231871]]),\n",
       " 'b3': array([[-0.45417716]])}"
      ]
     },
     "execution_count": 46,
     "metadata": {},
     "output_type": "execute_result"
    }
   ],
   "source": [
    "parameters"
   ]
  },
  {
   "cell_type": "code",
   "execution_count": null,
   "metadata": {},
   "outputs": [],
   "source": []
  }
 ],
 "metadata": {
  "kernelspec": {
   "display_name": "Python 3",
   "language": "python",
   "name": "python3"
  },
  "language_info": {
   "codemirror_mode": {
    "name": "ipython",
    "version": 3
   },
   "file_extension": ".py",
   "mimetype": "text/x-python",
   "name": "python",
   "nbconvert_exporter": "python",
   "pygments_lexer": "ipython3",
   "version": "3.7.6"
  }
 },
 "nbformat": 4,
 "nbformat_minor": 4
}
