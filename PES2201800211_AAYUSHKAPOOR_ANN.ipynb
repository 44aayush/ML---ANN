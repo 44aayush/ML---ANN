{
 "cells": [
  {
   "cell_type": "code",
   "execution_count": 6,
   "metadata": {},
   "outputs": [
    {
     "name": "stdout",
     "output_type": "stream",
     "text": [
      "Shape: (96, 11)\n"
     ]
    },
    {
     "data": {
      "text/html": [
       "<div>\n",
       "<style scoped>\n",
       "    .dataframe tbody tr th:only-of-type {\n",
       "        vertical-align: middle;\n",
       "    }\n",
       "\n",
       "    .dataframe tbody tr th {\n",
       "        vertical-align: top;\n",
       "    }\n",
       "\n",
       "    .dataframe thead th {\n",
       "        text-align: right;\n",
       "    }\n",
       "</style>\n",
       "<table border=\"1\" class=\"dataframe\">\n",
       "  <thead>\n",
       "    <tr style=\"text-align: right;\">\n",
       "      <th></th>\n",
       "      <th>Unnamed: 0</th>\n",
       "      <th>community</th>\n",
       "      <th>age</th>\n",
       "      <th>weight</th>\n",
       "      <th>delivery_phase</th>\n",
       "      <th>hb</th>\n",
       "      <th>ifa</th>\n",
       "      <th>bp</th>\n",
       "      <th>education</th>\n",
       "      <th>residence</th>\n",
       "      <th>result</th>\n",
       "    </tr>\n",
       "  </thead>\n",
       "  <tbody>\n",
       "    <tr>\n",
       "      <th>0</th>\n",
       "      <td>0</td>\n",
       "      <td>1</td>\n",
       "      <td>21.0</td>\n",
       "      <td>42.0</td>\n",
       "      <td>1.0</td>\n",
       "      <td>9.2</td>\n",
       "      <td>1</td>\n",
       "      <td>1.375</td>\n",
       "      <td>5.0</td>\n",
       "      <td>1.0</td>\n",
       "      <td>0</td>\n",
       "    </tr>\n",
       "    <tr>\n",
       "      <th>1</th>\n",
       "      <td>1</td>\n",
       "      <td>1</td>\n",
       "      <td>21.0</td>\n",
       "      <td>36.0</td>\n",
       "      <td>1.0</td>\n",
       "      <td>8.8</td>\n",
       "      <td>1</td>\n",
       "      <td>1.500</td>\n",
       "      <td>5.0</td>\n",
       "      <td>1.0</td>\n",
       "      <td>0</td>\n",
       "    </tr>\n",
       "    <tr>\n",
       "      <th>2</th>\n",
       "      <td>2</td>\n",
       "      <td>1</td>\n",
       "      <td>21.0</td>\n",
       "      <td>36.0</td>\n",
       "      <td>1.0</td>\n",
       "      <td>9.2</td>\n",
       "      <td>1</td>\n",
       "      <td>2.125</td>\n",
       "      <td>5.0</td>\n",
       "      <td>1.0</td>\n",
       "      <td>0</td>\n",
       "    </tr>\n",
       "    <tr>\n",
       "      <th>3</th>\n",
       "      <td>3</td>\n",
       "      <td>1</td>\n",
       "      <td>21.0</td>\n",
       "      <td>36.0</td>\n",
       "      <td>1.0</td>\n",
       "      <td>8.0</td>\n",
       "      <td>1</td>\n",
       "      <td>1.375</td>\n",
       "      <td>5.0</td>\n",
       "      <td>1.0</td>\n",
       "      <td>0</td>\n",
       "    </tr>\n",
       "    <tr>\n",
       "      <th>4</th>\n",
       "      <td>4</td>\n",
       "      <td>1</td>\n",
       "      <td>24.0</td>\n",
       "      <td>33.0</td>\n",
       "      <td>1.0</td>\n",
       "      <td>9.3</td>\n",
       "      <td>1</td>\n",
       "      <td>1.571</td>\n",
       "      <td>5.0</td>\n",
       "      <td>1.0</td>\n",
       "      <td>0</td>\n",
       "    </tr>\n",
       "  </tbody>\n",
       "</table>\n",
       "</div>"
      ],
      "text/plain": [
       "   Unnamed: 0  community   age  weight  delivery_phase   hb  ifa     bp  \\\n",
       "0           0          1  21.0    42.0             1.0  9.2    1  1.375   \n",
       "1           1          1  21.0    36.0             1.0  8.8    1  1.500   \n",
       "2           2          1  21.0    36.0             1.0  9.2    1  2.125   \n",
       "3           3          1  21.0    36.0             1.0  8.0    1  1.375   \n",
       "4           4          1  24.0    33.0             1.0  9.3    1  1.571   \n",
       "\n",
       "   education  residence  result  \n",
       "0        5.0        1.0       0  \n",
       "1        5.0        1.0       0  \n",
       "2        5.0        1.0       0  \n",
       "3        5.0        1.0       0  \n",
       "4        5.0        1.0       0  "
      ]
     },
     "execution_count": 6,
     "metadata": {},
     "output_type": "execute_result"
    }
   ],
   "source": [
    "import numpy as np\n",
    "import pandas as pd\n",
    "import matplotlib.pyplot as plt\n",
    "from sklearn.model_selection import train_test_split\n",
    "\n",
    "df=pd.read_csv(\"cleaned_data_PES2201800211.csv\")\n",
    "print(\"Shape:\",df.shape)\n",
    "df.head()"
   ]
  },
  {
   "cell_type": "code",
   "execution_count": 7,
   "metadata": {},
   "outputs": [
    {
     "data": {
      "text/plain": [
       "Unnamed: 0        0\n",
       "community         0\n",
       "age               0\n",
       "weight            0\n",
       "delivery_phase    0\n",
       "hb                0\n",
       "ifa               0\n",
       "bp                0\n",
       "education         0\n",
       "residence         0\n",
       "result            0\n",
       "dtype: int64"
      ]
     },
     "execution_count": 7,
     "metadata": {},
     "output_type": "execute_result"
    }
   ],
   "source": [
    "nulls=df.isnull().sum()\n",
    "nulls\n",
    "#(nulls*100)/96"
   ]
  },
  {
   "cell_type": "code",
   "execution_count": 8,
   "metadata": {},
   "outputs": [],
   "source": [
    "def sigmoid(Z):\n",
    "  return 1/(np.exp(-Z)+1)\n",
    "def relu(Z):\n",
    "  return np.maximum(0,Z)"
   ]
  },
  {
   "cell_type": "code",
   "execution_count": 10,
   "metadata": {},
   "outputs": [],
   "source": [
    "def init_parameters(dims):\n",
    "  parameters={}\n",
    "  for l in range(1,len(dims)):\n",
    "    parameters[\"W\"+ str(l)]=np.random.randn(dims[l],dims[l-1])*np.sqrt(2/dims[l-1])\n",
    "    parameters[\"b\"+ str(l)]=np.zeros(shape=(dims[l],1))\n",
    "    #limit=np.sqrt(6/(dims[l]+dims[l-1]))\n",
    "    # parameters[\"W\"+ str(l)]=np.random.uniform(-limit,limit,size=(dims[l],dims[l-1]))\n",
    "    # parameters[\"b\"+ str(l)]=np.random.uniform(-limit,limit,size=(dims[l],1))\n",
    "  return parameters\n",
    "\n",
    "def forward_activation(A,W,b,activation):\n",
    "  Z=W.dot(A)+b\n",
    "  if activation==\"relu\":\n",
    "    A_new=relu(Z)\n",
    "  elif activation==\"sigmoid\":\n",
    "    A_new=sigmoid(Z)\n",
    "  cache=((A,W,b),Z)\n",
    "  return A_new,cache\n",
    "\n",
    "def forward_propogate(X,parameters):\n",
    "  L=len(parameters)//2\n",
    "  caches=[]\n",
    "  A=X\n",
    "  for l in range(1,L):\n",
    "    A_prev=A\n",
    "    A,cache=forward_activation(A_prev,parameters[\"W\"+str(l)],parameters[\"b\"+str(l)],\"sigmoid\")\n",
    "    caches.append(cache)\n",
    "  #Last layer\n",
    "  O,cache=forward_activation(A,parameters[\"W\"+str(L)],parameters[\"b\"+str(L)],\"sigmoid\")\n",
    "  caches.append(cache)\n",
    "  return O,caches"
   ]
  },
  {
   "cell_type": "code",
   "execution_count": 11,
   "metadata": {},
   "outputs": [],
   "source": [
    "def compute_cost(O,Y,parameters,lambd):\n",
    "  assert(O.shape == Y.shape)\n",
    "  m=Y.shape[1]\n",
    "  #print(\"examples:\",m)\n",
    "  cost=(1./m)*(-np.dot(Y,np.log(O).T)-np.dot(1-Y,np.log(1-O).T))\n",
    "  cost=np.squeeze(cost)\n",
    "  assert(cost.shape==())\n",
    "  L=len(parameters)//2\n",
    "  reg_cost=0\n",
    "  for l in range(1,L+1):\n",
    "    reg_cost+=(1/m) * (lambd/2) * np.sum(parameters[\"W\"+str(l)]**2)\n",
    "  return cost   #+reg_cost"
   ]
  },
  {
   "cell_type": "code",
   "execution_count": 12,
   "metadata": {},
   "outputs": [],
   "source": [
    "#Back Propogation\n",
    "def relu_diff(da,z):\n",
    "  dz=da.copy()\n",
    "  dz[z<=0]=0\n",
    "  return dz\n",
    "def sigmoid_diff(da,z):\n",
    "  a=sigmoid(z)\n",
    "  dz=da*a*(1-a)\n",
    "  return dz\n",
    "\n",
    "def backward_activation(da,cache,activation):\n",
    "  cache1,cache2=cache\n",
    "  lambd=0.7\n",
    "  if activation==\"relu\":\n",
    "    dz=relu_diff(da,cache2)\n",
    "  elif activation==\"sigmoid\":\n",
    "    dz=sigmoid_diff(da,cache2)\n",
    "  a_prev,W,b=cache1\n",
    "  m=a_prev.shape[1]\n",
    "  da_prev=np.dot(W.T,dz)\n",
    "  dW=np.dot(dz,a_prev.T)*(1./m)#+(lambd/m) * W\n",
    "  db=np.sum(dz,axis=1,keepdims=True)*(1./m)\n",
    "  return da_prev,dW,db\n",
    "\n",
    "def back_propogate(O,Y,caches):\n",
    "  grads={}\n",
    "  m=O.shape[1]\n",
    "  L=len(caches)\n",
    "  Y=Y.reshape(O.shape)\n",
    "\n",
    "  dO=-(np.divide(Y,O)-np.divide(1-Y,1-O))\n",
    "  current_cache=caches[L-1]\n",
    "  grads[\"dA\"+str(L-1)],grads[\"dW\"+str(L)],grads[\"db\"+str(L)]=backward_activation(dO,current_cache,\"sigmoid\")\n",
    "\n",
    "  for l in reversed(range(L-1)):\n",
    "    current_cache=caches[l]\n",
    "    grads[\"dA\"+str(l)],grads[\"dW\"+str(l+1)],grads[\"db\"+str(l+1)]=backward_activation(grads[\"dA\"+str(l+1)],current_cache,\"sigmoid\")\n",
    "\n",
    "  return grads"
   ]
  },
  {
   "cell_type": "code",
   "execution_count": 13,
   "metadata": {},
   "outputs": [],
   "source": [
    "def update_parameters(parameters,v,grads,learning_rate):\n",
    "    L = len(parameters) // 2 # number of layers in the neural networks\n",
    "    beta=0.9\n",
    "    # Momentum update for each parameter\n",
    "    for l in range(L):\n",
    "        \n",
    "        ### START CODE HERE ### (approx. 4 lines)\n",
    "        # compute velocities\n",
    "        v[\"dW\" + str(l+1)] = beta * v[\"dW\" + str(l+1)] + (1-beta) * grads['dW' + str(l+1)]\n",
    "        v[\"db\" + str(l+1)] = beta * v[\"db\" + str(l+1)] + (1-beta) * grads['db' + str(l+1)]\n",
    "        # update parameters\n",
    "        parameters[\"W\" + str(l+1)] = parameters[\"W\" + str(l+1)] - learning_rate * v['dW' + str(l+1)]\n",
    "        parameters[\"b\" + str(l+1)] = parameters[\"b\" + str(l+1)] - learning_rate * v['db' + str(l+1)]\n",
    "        ### END CODE HERE ###\n",
    "        \n",
    "    return parameters, v"
   ]
  },
  {
   "cell_type": "code",
   "execution_count": 14,
   "metadata": {},
   "outputs": [],
   "source": [
    "def predict(X,Y,parameters):\n",
    "  #print(X[:,[0,5,10]])\n",
    "  m=X.shape[1]\n",
    "  n=len(parameters)//2\n",
    "  predictions=np.zeros((1,m))\n",
    "  prob,cache=forward_propogate(X,parameters)\n",
    "  for i in range(0,prob.shape[1]):\n",
    "    if prob[0][i] > 0.5:\n",
    "        predictions[0][i]=1\n",
    "    else:\n",
    "        predictions[0][i]=0\n",
    "  #print(\"Accuracy: \"+str(np.sum(predictions[0]==Y[0])))\n",
    "  print(\"Accuracy: \"  + str(np.sum((predictions == Y)/m)))\n",
    "  return predictions"
   ]
  },
  {
   "cell_type": "code",
   "execution_count": 15,
   "metadata": {},
   "outputs": [],
   "source": [
    "def initialize_velocity(parameters):\n",
    "    L = len(parameters) // 2 # number of layers in the neural networks\n",
    "    v = {}\n",
    "    \n",
    "    # Initialize velocity\n",
    "    for l in range(L):\n",
    "        ### START CODE HERE ### (approx. 2 lines)\n",
    "        v[\"dW\" + str(l+1)] = np.zeros_like(parameters['W' + str(l+1)])\n",
    "        v[\"db\" + str(l+1)] = np.zeros_like(parameters['b' + str(l+1)])\n",
    "        ### END CODE HERE ###\n",
    "        \n",
    "    return v"
   ]
  },
  {
   "cell_type": "code",
   "execution_count": 16,
   "metadata": {},
   "outputs": [],
   "source": [
    "def model(X,Y,layer_dims,learning_rate=0.0075,num_iterations=1500,print_cost=False):\n",
    "  parameters=init_parameters(layers_dims)\n",
    "  v=initialize_velocity(parameters)\n",
    "  costs=[]\n",
    "  for i in range(num_iterations):\n",
    "    O,caches=forward_propogate(X,parameters)\n",
    "    cost=compute_cost(O,Y,parameters,0.7)\n",
    "    grads=back_propogate(O,Y,caches)\n",
    "    parameters,v=update_parameters(parameters,v,grads,learning_rate)\n",
    "    #print(O,len(O[0]))\n",
    "    if print_cost and i%5000==0:\n",
    "      print(\"Cost after\",i,\"iteration:\",cost)\n",
    "      costs.append(cost)\n",
    "  plt.plot(costs)\n",
    "  plt.ylabel('cost')\n",
    "  plt.xlabel('iterations per 100')\n",
    "  plt.title(\"learning rate=\"+str(learning_rate))\n",
    "  plt.show()\n",
    "\n",
    "  return parameters"
   ]
  },
  {
   "cell_type": "code",
   "execution_count": 17,
   "metadata": {},
   "outputs": [
    {
     "name": "stdout",
     "output_type": "stream",
     "text": [
      "24 72\n"
     ]
    }
   ],
   "source": [
    "data=df.to_numpy()\n",
    "X_temp=data[:,[4,5,6]]\n",
    "#print(X_temp[:5,:],np.sum(X_temp,axis=0))\n",
    "mean=np.sum(X_temp,axis=0)/X_temp.shape[0]\n",
    "X_temp-=mean\n",
    "#print(X_temp[:5,:])\n",
    "X_sigma=np.sum(X_temp**2,axis=0)/X_temp.shape[0]\n",
    "data[:,[4,5,6]]=X_temp/np.sqrt(X_sigma)\n",
    "np.savetxt(\"cleaned1.csv\",data,delimiter=',')\n",
    "X=data[:,:-1]\n",
    "Y=data[:,-1]\n",
    "print(np.sum(Y==0),np.sum(Y==1))\n",
    "X_train,X_test,Y_train,Y_test=train_test_split(X,Y,test_size=.30,random_state=11)\n",
    "#print(X_train.T.shape,X_test.T.shape,Y_train.T.shape,Y_test.T.shape,X_train.T[:,50],Y_train.reshape((1,len(Y_train)))[0,50])"
   ]
  },
  {
   "cell_type": "code",
   "execution_count": 18,
   "metadata": {},
   "outputs": [
    {
     "name": "stdout",
     "output_type": "stream",
     "text": [
      "Cost after 0 iteration: 0.8274599526459258\n",
      "Cost after 5000 iteration: 0.0010024175260119562\n",
      "Cost after 10000 iteration: 0.00048809155046798224\n",
      "Cost after 15000 iteration: 0.00032214240630018006\n",
      "Cost after 20000 iteration: 0.00024028188381068212\n",
      "Cost after 25000 iteration: 0.0001915452111755831\n",
      "Cost after 30000 iteration: 0.00015922083803920927\n",
      "Cost after 35000 iteration: 0.00013621748089491815\n",
      "Cost after 40000 iteration: 0.0001190136366023087\n",
      "Cost after 45000 iteration: 0.0001056627796363853\n",
      "Cost after 50000 iteration: 9.500157195146844e-05\n",
      "Cost after 55000 iteration: 8.629204162036707e-05\n",
      "Cost after 60000 iteration: 7.904348808284116e-05\n",
      "Cost after 65000 iteration: 7.291694074434475e-05\n",
      "Cost after 70000 iteration: 6.767073267395916e-05\n",
      "Cost after 75000 iteration: 6.312793055653655e-05\n"
     ]
    },
    {
     "data": {
      "image/png": "[encoded data removed]",
      "text/plain": [
       "<Figure size 432x288 with 1 Axes>"
      ]
     },
     "metadata": {
      "needs_background": "light"
     },
     "output_type": "display_data"
    }
   ],
   "source": [
    "layers_dims=(10,10,3,1)\n",
    "parameters=model(X_train.T,Y_train.reshape((1,len(Y_train))),layers_dims,learning_rate=0.3,num_iterations=80000,print_cost=True)"
   ]
  },
  {
   "cell_type": "code",
   "execution_count": 19,
   "metadata": {},
   "outputs": [
    {
     "name": "stdout",
     "output_type": "stream",
     "text": [
      "Accuracy: 1.0\n"
     ]
    },
    {
     "data": {
      "text/plain": [
       "array([[1., 1., 1., 1., 1., 1., 0., 1., 1., 1., 0., 1., 1., 1., 1., 1.,\n",
       "        1., 0., 0., 1., 1., 1., 1., 0., 1., 1., 1., 1., 0., 0., 1., 0.,\n",
       "        0., 1., 1., 1., 1., 0., 1., 0., 1., 1., 1., 1., 0., 1., 1., 1.,\n",
       "        0., 0., 1., 0., 1., 1., 1., 1., 1., 1., 1., 1., 0., 1., 1., 1.,\n",
       "        1., 1., 1.]])"
      ]
     },
     "execution_count": 19,
     "metadata": {},
     "output_type": "execute_result"
    }
   ],
   "source": [
    "predict(X_train.T,Y_train.reshape((1,len(Y_train))),parameters)"
   ]
  },
  {
   "cell_type": "code",
   "execution_count": 20,
   "metadata": {},
   "outputs": [
    {
     "name": "stdout",
     "output_type": "stream",
     "text": [
      "Accuracy: 0.9655172413793102\n"
     ]
    },
    {
     "data": {
      "text/plain": [
       "array([[1., 1., 1., 1., 1., 1., 1., 1., 1., 1., 1., 1., 1., 1., 0., 1.,\n",
       "        1., 0., 1., 1., 0., 1., 0., 1., 1., 1., 0., 0., 0.]])"
      ]
     },
     "execution_count": 20,
     "metadata": {},
     "output_type": "execute_result"
    }
   ],
   "source": [
    "predict(X_test.T,Y_test.reshape((1,len(Y_test))),parameters)"
   ]
  },
  {
   "cell_type": "code",
   "execution_count": 21,
   "metadata": {},
   "outputs": [
    {
     "data": {
      "text/plain": [
       "{'W1': array([[ 0.14397319, -0.4714069 ,  0.10569838,  1.28761188, -0.31332869,\n",
       "          0.25794129, -0.04528853,  0.91316414, -0.48738832, -0.10697385],\n",
       "        [ 0.55997804,  0.22820765,  0.62965227,  0.11003293,  0.38690676,\n",
       "         -0.53210662, -0.13159944, -0.26098291,  0.14460105, -0.12297195],\n",
       "        [ 0.40971487,  0.06905476, -0.37247552,  0.42404014, -0.78038287,\n",
       "          0.58859262,  0.77804143,  0.34988948, -0.14898   ,  0.14472926],\n",
       "        [-0.15705718, -0.12596583, -0.09889691, -0.06684745,  0.1624672 ,\n",
       "          0.69213329,  0.12925774,  0.8825615 , -0.50069068,  0.37054265],\n",
       "        [ 0.79710773, -0.43005646, -1.03175333,  0.14844545, -0.2204334 ,\n",
       "         -0.13559147,  0.72338043,  0.03455969,  0.19136955,  0.25007712],\n",
       "        [ 0.02032056,  0.2680566 ,  0.54591395,  0.4140202 , -0.12628519,\n",
       "          0.45879875, -0.01659463, -0.82828955,  0.02552821,  0.69844353],\n",
       "        [-0.66212225,  0.1408703 ,  0.92713158, -0.07499829,  0.92777182,\n",
       "         -0.32240804, -1.63875452, -0.24180476, -0.90016313,  0.29061888],\n",
       "        [ 0.84408498, -0.44453672, -0.80237451,  0.10375454, -0.46336742,\n",
       "          0.48311478,  0.29504724, -0.27417887, -0.59458322, -0.25933702],\n",
       "        [-0.83209224, -0.20980145, -0.21511278,  0.73361579,  0.48916011,\n",
       "          0.25406014, -0.3640725 ,  0.61533662, -0.06258324,  0.33973048],\n",
       "        [ 0.75220038, -1.13227855, -0.47387084, -0.05071656, -0.4732072 ,\n",
       "          0.18179755,  0.89879951, -0.75388424, -0.15781688,  0.42903319]]),\n",
       " 'b1': array([[ 0.00000000e+00],\n",
       "        [ 1.88387524e-09],\n",
       "        [ 1.20127198e-03],\n",
       "        [-2.40707400e-03],\n",
       "        [-3.41893261e-02],\n",
       "        [ 1.53295702e-11],\n",
       "        [ 2.57529039e-02],\n",
       "        [-4.35076387e-02],\n",
       "        [ 1.31095638e-03],\n",
       "        [-4.29479429e-02]]),\n",
       " 'W2': array([[-0.11416741, -0.60984046, -0.13946446,  0.35352151,  1.81971335,\n",
       "         -0.1210881 , -2.36927179,  1.74906179, -0.69555866,  1.91320764],\n",
       "        [ 0.89181121,  0.1433441 ,  0.17594187,  0.33202628, -2.31245131,\n",
       "          0.44921458,  1.68601935, -1.84138995,  0.96606742, -2.04758532],\n",
       "        [-0.14724957,  0.02785931, -0.38291516,  0.04625275,  1.99462967,\n",
       "         -0.42270696, -1.79820075,  1.29808259, -0.86765914,  1.46621608]]),\n",
       " 'b2': array([[-0.21220964],\n",
       "        [ 0.03396254],\n",
       "        [-0.07661434]]),\n",
       " 'W3': array([[ 6.76163528, -8.1686403 ,  5.01761284]]),\n",
       " 'b3': array([[-1.06658413]])}"
      ]
     },
     "execution_count": 21,
     "metadata": {},
     "output_type": "execute_result"
    }
   ],
   "source": [
    "parameters"
   ]
  },
  {
   "cell_type": "code",
   "execution_count": null,
   "metadata": {},
   "outputs": [],
   "source": []
  }
 ],
 "metadata": {
  "kernelspec": {
   "display_name": "Python 3",
   "language": "python",
   "name": "python3"
  },
  "language_info": {
   "codemirror_mode": {
    "name": "ipython",
    "version": 3
   },
   "file_extension": ".py",
   "mimetype": "text/x-python",
   "name": "python",
   "nbconvert_exporter": "python",
   "pygments_lexer": "ipython3",
   "version": "3.7.6"
  }
 },
 "nbformat": 4,
 "nbformat_minor": 4
}
