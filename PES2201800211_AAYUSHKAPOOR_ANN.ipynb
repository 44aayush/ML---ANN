{
 "cells": [
  {
   "cell_type": "code",
   "execution_count": 120,
   "metadata": {},
   "outputs": [
    {
     "name": "stdout",
     "output_type": "stream",
     "text": [
      "Shape: (96, 11)\n"
     ]
    },
    {
     "data": {
      "text/html": [
       "<div>\n",
       "<style scoped>\n",
       "    .dataframe tbody tr th:only-of-type {\n",
       "        vertical-align: middle;\n",
       "    }\n",
       "\n",
       "    .dataframe tbody tr th {\n",
       "        vertical-align: top;\n",
       "    }\n",
       "\n",
       "    .dataframe thead th {\n",
       "        text-align: right;\n",
       "    }\n",
       "</style>\n",
       "<table border=\"1\" class=\"dataframe\">\n",
       "  <thead>\n",
       "    <tr style=\"text-align: right;\">\n",
       "      <th></th>\n",
       "      <th>Unnamed: 0</th>\n",
       "      <th>community</th>\n",
       "      <th>age</th>\n",
       "      <th>weight</th>\n",
       "      <th>delivery_phase</th>\n",
       "      <th>hb</th>\n",
       "      <th>ifa</th>\n",
       "      <th>bp</th>\n",
       "      <th>education</th>\n",
       "      <th>residence</th>\n",
       "      <th>result</th>\n",
       "    </tr>\n",
       "  </thead>\n",
       "  <tbody>\n",
       "    <tr>\n",
       "      <th>0</th>\n",
       "      <td>0</td>\n",
       "      <td>1</td>\n",
       "      <td>21.0</td>\n",
       "      <td>42.0</td>\n",
       "      <td>1.0</td>\n",
       "      <td>9.2</td>\n",
       "      <td>1</td>\n",
       "      <td>1.375</td>\n",
       "      <td>5.0</td>\n",
       "      <td>1.0</td>\n",
       "      <td>0</td>\n",
       "    </tr>\n",
       "    <tr>\n",
       "      <th>1</th>\n",
       "      <td>1</td>\n",
       "      <td>1</td>\n",
       "      <td>21.0</td>\n",
       "      <td>36.0</td>\n",
       "      <td>1.0</td>\n",
       "      <td>8.8</td>\n",
       "      <td>1</td>\n",
       "      <td>1.500</td>\n",
       "      <td>5.0</td>\n",
       "      <td>1.0</td>\n",
       "      <td>0</td>\n",
       "    </tr>\n",
       "    <tr>\n",
       "      <th>2</th>\n",
       "      <td>2</td>\n",
       "      <td>1</td>\n",
       "      <td>21.0</td>\n",
       "      <td>36.0</td>\n",
       "      <td>1.0</td>\n",
       "      <td>9.2</td>\n",
       "      <td>1</td>\n",
       "      <td>2.125</td>\n",
       "      <td>5.0</td>\n",
       "      <td>1.0</td>\n",
       "      <td>0</td>\n",
       "    </tr>\n",
       "    <tr>\n",
       "      <th>3</th>\n",
       "      <td>3</td>\n",
       "      <td>1</td>\n",
       "      <td>21.0</td>\n",
       "      <td>36.0</td>\n",
       "      <td>1.0</td>\n",
       "      <td>8.0</td>\n",
       "      <td>1</td>\n",
       "      <td>1.375</td>\n",
       "      <td>5.0</td>\n",
       "      <td>1.0</td>\n",
       "      <td>0</td>\n",
       "    </tr>\n",
       "    <tr>\n",
       "      <th>4</th>\n",
       "      <td>4</td>\n",
       "      <td>1</td>\n",
       "      <td>24.0</td>\n",
       "      <td>33.0</td>\n",
       "      <td>1.0</td>\n",
       "      <td>9.3</td>\n",
       "      <td>1</td>\n",
       "      <td>1.571</td>\n",
       "      <td>5.0</td>\n",
       "      <td>1.0</td>\n",
       "      <td>0</td>\n",
       "    </tr>\n",
       "  </tbody>\n",
       "</table>\n",
       "</div>"
      ],
      "text/plain": [
       "   Unnamed: 0  community   age  weight  delivery_phase   hb  ifa     bp  \\\n",
       "0           0          1  21.0    42.0             1.0  9.2    1  1.375   \n",
       "1           1          1  21.0    36.0             1.0  8.8    1  1.500   \n",
       "2           2          1  21.0    36.0             1.0  9.2    1  2.125   \n",
       "3           3          1  21.0    36.0             1.0  8.0    1  1.375   \n",
       "4           4          1  24.0    33.0             1.0  9.3    1  1.571   \n",
       "\n",
       "   education  residence  result  \n",
       "0        5.0        1.0       0  \n",
       "1        5.0        1.0       0  \n",
       "2        5.0        1.0       0  \n",
       "3        5.0        1.0       0  \n",
       "4        5.0        1.0       0  "
      ]
     },
     "execution_count": 120,
     "metadata": {},
     "output_type": "execute_result"
    }
   ],
   "source": [
    "import numpy as np\n",
    "import pandas as pd\n",
    "import matplotlib.pyplot as plt\n",
    "from sklearn.model_selection import train_test_split\n",
    "\n",
    "df=pd.read_csv(\"cleaned_data_PES2201800211.csv\")\n",
    "print(\"Shape:\",df.shape)\n",
    "df.head()"
   ]
  },
  {
   "cell_type": "code",
   "execution_count": 121,
   "metadata": {},
   "outputs": [
    {
     "data": {
      "text/plain": [
       "Unnamed: 0        0\n",
       "community         0\n",
       "age               0\n",
       "weight            0\n",
       "delivery_phase    0\n",
       "hb                0\n",
       "ifa               0\n",
       "bp                0\n",
       "education         0\n",
       "residence         0\n",
       "result            0\n",
       "dtype: int64"
      ]
     },
     "execution_count": 121,
     "metadata": {},
     "output_type": "execute_result"
    }
   ],
   "source": [
    "nulls=df.isnull().sum()\n",
    "nulls\n",
    "#(nulls*100)/96"
   ]
  },
  {
   "cell_type": "code",
   "execution_count": 122,
   "metadata": {},
   "outputs": [
    {
     "name": "stdout",
     "output_type": "stream",
     "text": [
      "No.of 1's 83\n",
      "No.of 2's 13\n"
     ]
    }
   ],
   "source": [
    "#Residence counts\n",
    "print(\"No.of 1's\",np.sum(df[\"residence\"]==1))\n",
    "print(\"No.of 2's\",np.sum(df[\"residence\"]==2))\n",
    "df.residence.values[df.residence.values==1]=0\n",
    "df.residence.values[df.residence.values==2]=1\n",
    "# df.Residence.fillna(0,inplace=True)"
   ]
  },
  {
   "cell_type": "code",
   "execution_count": 123,
   "metadata": {},
   "outputs": [
    {
     "name": "stdout",
     "output_type": "stream",
     "text": [
      "No.of 1's 94\n",
      "No.of 2's 2\n"
     ]
    }
   ],
   "source": [
    "#Delivery Phase\n",
    "print(\"No.of 1's\",np.sum(df[\"delivery_phase\"]==1))\n",
    "print(\"No.of 2's\",np.sum(df[\"delivery_phase\"]==2))\n",
    "# df.drop(['delivery_phase','education'],axis=1,inplace=True)"
   ]
  },
  {
   "cell_type": "code",
   "execution_count": 124,
   "metadata": {},
   "outputs": [
    {
     "name": "stdout",
     "output_type": "stream",
     "text": [
      "No.of 1's 30\n",
      "No.of 2's 66\n"
     ]
    }
   ],
   "source": [
    "# IFA\n",
    "print(\"No.of 1's\",np.sum(df[\"ifa\"]==0))\n",
    "print(\"No.of 2's\",np.sum(df[\"ifa\"]==1))"
   ]
  },
  {
   "cell_type": "code",
   "execution_count": 125,
   "metadata": {},
   "outputs": [
    {
     "name": "stdout",
     "output_type": "stream",
     "text": [
      "count    96.000000\n",
      "mean     23.753053\n",
      "std       3.196334\n",
      "min      17.000000\n",
      "25%      21.000000\n",
      "50%      24.000000\n",
      "75%      25.250000\n",
      "max      38.000000\n",
      "Name: age, dtype: float64\n"
     ]
    },
    {
     "data": {
      "image/png": "[encoded data removed]",
      "text/plain": [
       "<Figure size 432x288 with 1 Axes>"
      ]
     },
     "metadata": {
      "needs_background": "light"
     },
     "output_type": "display_data"
    },
    {
     "name": "stdout",
     "output_type": "stream",
     "text": [
      "23.753052917232026\n"
     ]
    }
   ],
   "source": [
    "ages=df[\"age\"].notnull()\n",
    "age=df[\"age\"]\n",
    "ages=age[ages]\n",
    "print(ages.describe())\n",
    "plt.hist(ages,bins=20)\n",
    "plt.show()\n",
    "age.fillna(ages.median(),inplace=True)\n",
    "print(df['age'].mean())"
   ]
  },
  {
   "cell_type": "code",
   "execution_count": 126,
   "metadata": {},
   "outputs": [
    {
     "data": {
      "image/png": "[encoded data removed]",
      "text/plain": [
       "<Figure size 432x288 with 1 Axes>"
      ]
     },
     "metadata": {
      "needs_background": "light"
     },
     "output_type": "display_data"
    },
    {
     "data": {
      "image/png": "[encoded data removed]",
      "text/plain": [
       "<Figure size 432x288 with 1 Axes>"
      ]
     },
     "metadata": {
      "needs_background": "light"
     },
     "output_type": "display_data"
    },
    {
     "data": {
      "image/png": "[encoded data removed]",
      "text/plain": [
       "<Figure size 432x288 with 1 Axes>"
      ]
     },
     "metadata": {
      "needs_background": "light"
     },
     "output_type": "display_data"
    },
    {
     "name": "stdout",
     "output_type": "stream",
     "text": [
      "count    96.000000\n",
      "mean     44.083333\n",
      "std       8.259816\n",
      "min      30.000000\n",
      "25%      39.000000\n",
      "50%      42.000000\n",
      "75%      49.250000\n",
      "max      65.000000\n",
      "Name: weight, dtype: float64\n"
     ]
    }
   ],
   "source": [
    "wts=df['weight'].notnull()\n",
    "cor_age=df.age[wts]\n",
    "cor_wts=df.weight[wts]\n",
    "plt.boxplot(df.age)\n",
    "plt.show()\n",
    "plt.boxplot(df.weight)\n",
    "plt.show()\n",
    "cor=np.cov(cor_age,cor_wts)\n",
    "cor[0,1]/(cor_age.std()*cor_wts.std())\n",
    "plt.scatter(cor_age,cor_wts)\n",
    "plt.show()\n",
    "print(cor_wts.describe())\n",
    "df.weight.fillna(cor_wts.mean(),inplace=True)"
   ]
  },
  {
   "cell_type": "code",
   "execution_count": 127,
   "metadata": {},
   "outputs": [
    {
     "data": {
      "image/png": "[encoded data removed]",
      "text/plain": [
       "<Figure size 432x288 with 1 Axes>"
      ]
     },
     "metadata": {
      "needs_background": "light"
     },
     "output_type": "display_data"
    }
   ],
   "source": [
    "h=df['hb'].notnull()\n",
    "hbs=df.hb[h].to_numpy()\n",
    "lo=hbs>=8.45\n",
    "hi=hbs<=9.65\n",
    "hb=hbs[lo & hi]\n",
    "plt.boxplot(hbs)\n",
    "plt.show()\n",
    "#print(pd.Series(hbs).describe(),pd.Series(hb).describe())\n",
    "df.hb.fillna(hb.mean(),inplace=True)"
   ]
  },
  {
   "cell_type": "code",
   "execution_count": 128,
   "metadata": {},
   "outputs": [
    {
     "data": {
      "text/html": [
       "<div>\n",
       "<style scoped>\n",
       "    .dataframe tbody tr th:only-of-type {\n",
       "        vertical-align: middle;\n",
       "    }\n",
       "\n",
       "    .dataframe tbody tr th {\n",
       "        vertical-align: top;\n",
       "    }\n",
       "\n",
       "    .dataframe thead th {\n",
       "        text-align: right;\n",
       "    }\n",
       "</style>\n",
       "<table border=\"1\" class=\"dataframe\">\n",
       "  <thead>\n",
       "    <tr style=\"text-align: right;\">\n",
       "      <th></th>\n",
       "      <th>1</th>\n",
       "      <th>4</th>\n",
       "      <th>age</th>\n",
       "      <th>weight</th>\n",
       "      <th>hb</th>\n",
       "      <th>delivery_phase</th>\n",
       "      <th>education</th>\n",
       "      <th>ifa</th>\n",
       "      <th>bp</th>\n",
       "      <th>residence</th>\n",
       "      <th>result</th>\n",
       "    </tr>\n",
       "  </thead>\n",
       "  <tbody>\n",
       "    <tr>\n",
       "      <th>0</th>\n",
       "      <td>1</td>\n",
       "      <td>0</td>\n",
       "      <td>21.0</td>\n",
       "      <td>42.0</td>\n",
       "      <td>9.2</td>\n",
       "      <td>1.0</td>\n",
       "      <td>5.0</td>\n",
       "      <td>1</td>\n",
       "      <td>1.375</td>\n",
       "      <td>0.0</td>\n",
       "      <td>0</td>\n",
       "    </tr>\n",
       "    <tr>\n",
       "      <th>1</th>\n",
       "      <td>1</td>\n",
       "      <td>0</td>\n",
       "      <td>21.0</td>\n",
       "      <td>36.0</td>\n",
       "      <td>8.8</td>\n",
       "      <td>1.0</td>\n",
       "      <td>5.0</td>\n",
       "      <td>1</td>\n",
       "      <td>1.500</td>\n",
       "      <td>0.0</td>\n",
       "      <td>0</td>\n",
       "    </tr>\n",
       "    <tr>\n",
       "      <th>2</th>\n",
       "      <td>1</td>\n",
       "      <td>0</td>\n",
       "      <td>21.0</td>\n",
       "      <td>36.0</td>\n",
       "      <td>9.2</td>\n",
       "      <td>1.0</td>\n",
       "      <td>5.0</td>\n",
       "      <td>1</td>\n",
       "      <td>2.125</td>\n",
       "      <td>0.0</td>\n",
       "      <td>0</td>\n",
       "    </tr>\n",
       "    <tr>\n",
       "      <th>3</th>\n",
       "      <td>1</td>\n",
       "      <td>0</td>\n",
       "      <td>21.0</td>\n",
       "      <td>36.0</td>\n",
       "      <td>8.0</td>\n",
       "      <td>1.0</td>\n",
       "      <td>5.0</td>\n",
       "      <td>1</td>\n",
       "      <td>1.375</td>\n",
       "      <td>0.0</td>\n",
       "      <td>0</td>\n",
       "    </tr>\n",
       "    <tr>\n",
       "      <th>4</th>\n",
       "      <td>1</td>\n",
       "      <td>0</td>\n",
       "      <td>24.0</td>\n",
       "      <td>33.0</td>\n",
       "      <td>9.3</td>\n",
       "      <td>1.0</td>\n",
       "      <td>5.0</td>\n",
       "      <td>1</td>\n",
       "      <td>1.571</td>\n",
       "      <td>0.0</td>\n",
       "      <td>0</td>\n",
       "    </tr>\n",
       "  </tbody>\n",
       "</table>\n",
       "</div>"
      ],
      "text/plain": [
       "   1  4   age  weight   hb  delivery_phase  education  ifa     bp  residence  \\\n",
       "0  1  0  21.0    42.0  9.2             1.0        5.0    1  1.375        0.0   \n",
       "1  1  0  21.0    36.0  8.8             1.0        5.0    1  1.500        0.0   \n",
       "2  1  0  21.0    36.0  9.2             1.0        5.0    1  2.125        0.0   \n",
       "3  1  0  21.0    36.0  8.0             1.0        5.0    1  1.375        0.0   \n",
       "4  1  0  24.0    33.0  9.3             1.0        5.0    1  1.571        0.0   \n",
       "\n",
       "   result  \n",
       "0       0  \n",
       "1       0  \n",
       "2       0  \n",
       "3       0  \n",
       "4       0  "
      ]
     },
     "execution_count": 128,
     "metadata": {},
     "output_type": "execute_result"
    }
   ],
   "source": [
    "\n",
    "b=df['bp'].notnull()\n",
    "bps=df.bp[h]\n",
    "bps.describe()\n",
    "df.bp.fillna(bps.mean(),inplace=True)\n",
    "one_hot=pd.get_dummies(df['community'])\n",
    "df=df.drop('community',axis=1)\n",
    "df=df.join(one_hot)\n",
    "df=df.reindex(columns=[1,4,'age','weight','hb','delivery_phase','education','ifa','bp','residence','result'])\n",
    "df.head()"
   ]
  },
  {
   "cell_type": "code",
   "execution_count": 129,
   "metadata": {},
   "outputs": [],
   "source": [
    "def sigmoid(Z):\n",
    "  return 1/(np.exp(-Z)+1)\n",
    "def relu(Z):\n",
    "  return np.maximum(0,Z)"
   ]
  },
  {
   "cell_type": "code",
   "execution_count": 134,
   "metadata": {},
   "outputs": [],
   "source": [
    "def init_parameters(dims):\n",
    "  parameters={}\n",
    "  for l in range(1,len(dims)):\n",
    "    parameters[\"W\"+ str(l)]=np.random.randn(dims[l],dims[l-1])*np.sqrt(2/dims[l-1])\n",
    "    parameters[\"b\"+ str(l)]=np.zeros(shape=(dims[l],1))\n",
    "    #limit=np.sqrt(6/(dims[l]+dims[l-1]))\n",
    "    # parameters[\"W\"+ str(l)]=np.random.uniform(-limit,limit,size=(dims[l],dims[l-1]))\n",
    "    # parameters[\"b\"+ str(l)]=np.random.uniform(-limit,limit,size=(dims[l],1))\n",
    "  return parameters\n",
    "\n",
    "def forward_activation(A,W,b,activation):\n",
    "  Z=W.dot(A)+b\n",
    "  if activation==\"relu\":\n",
    "    A_new=relu(Z)\n",
    "  elif activation==\"sigmoid\":\n",
    "    A_new=sigmoid(Z)\n",
    "  cache=((A,W,b),Z)\n",
    "  return A_new,cache\n",
    "\n",
    "def forward_propogate(X,parameters):\n",
    "  L=len(parameters)//2\n",
    "  caches=[]\n",
    "  A=X\n",
    "  for l in range(1,L):\n",
    "    A_prev=A\n",
    "    A,cache=forward_activation(A_prev,parameters[\"W\"+str(l)],parameters[\"b\"+str(l)],\"sigmoid\")\n",
    "    caches.append(cache)\n",
    "  #Last layer\n",
    "  O,cache=forward_activation(A,parameters[\"W\"+str(L)],parameters[\"b\"+str(L)],\"sigmoid\")\n",
    "  caches.append(cache)\n",
    "  return O,caches"
   ]
  },
  {
   "cell_type": "code",
   "execution_count": 135,
   "metadata": {},
   "outputs": [],
   "source": [
    "def compute_cost(O,Y,parameters,lambd):\n",
    "  assert(O.shape == Y.shape)\n",
    "  m=Y.shape[1]\n",
    "  #print(\"examples:\",m)\n",
    "  cost=(1./m)*(-np.dot(Y,np.log(O).T)-np.dot(1-Y,np.log(1-O).T))\n",
    "  cost=np.squeeze(cost)\n",
    "  assert(cost.shape==())\n",
    "  L=len(parameters)//2\n",
    "  reg_cost=0\n",
    "  for l in range(1,L+1):\n",
    "    reg_cost+=(1/m) * (lambd/2) * np.sum(parameters[\"W\"+str(l)]**2)\n",
    "  return cost   #+reg_cost"
   ]
  },
  {
   "cell_type": "code",
   "execution_count": 136,
   "metadata": {},
   "outputs": [],
   "source": [
    "#Back Propogation\n",
    "def relu_diff(da,z):\n",
    "  dz=da.copy()\n",
    "  dz[z<=0]=0\n",
    "  return dz\n",
    "def sigmoid_diff(da,z):\n",
    "  a=sigmoid(z)\n",
    "  dz=da*a*(1-a)\n",
    "  return dz\n",
    "\n",
    "def backward_activation(da,cache,activation):\n",
    "  cache1,cache2=cache\n",
    "  lambd=0.7\n",
    "  if activation==\"relu\":\n",
    "    dz=relu_diff(da,cache2)\n",
    "  elif activation==\"sigmoid\":\n",
    "    dz=sigmoid_diff(da,cache2)\n",
    "  a_prev,W,b=cache1\n",
    "  m=a_prev.shape[1]\n",
    "  da_prev=np.dot(W.T,dz)\n",
    "  dW=np.dot(dz,a_prev.T)*(1./m)#+(lambd/m) * W\n",
    "  db=np.sum(dz,axis=1,keepdims=True)*(1./m)\n",
    "  return da_prev,dW,db\n",
    "\n",
    "def back_propogate(O,Y,caches):\n",
    "  grads={}\n",
    "  m=O.shape[1]\n",
    "  L=len(caches)\n",
    "  Y=Y.reshape(O.shape)\n",
    "\n",
    "  dO=-(np.divide(Y,O)-np.divide(1-Y,1-O))\n",
    "  current_cache=caches[L-1]\n",
    "  grads[\"dA\"+str(L-1)],grads[\"dW\"+str(L)],grads[\"db\"+str(L)]=backward_activation(dO,current_cache,\"sigmoid\")\n",
    "\n",
    "  for l in reversed(range(L-1)):\n",
    "    current_cache=caches[l]\n",
    "    grads[\"dA\"+str(l)],grads[\"dW\"+str(l+1)],grads[\"db\"+str(l+1)]=backward_activation(grads[\"dA\"+str(l+1)],current_cache,\"sigmoid\")\n",
    "\n",
    "  return grads"
   ]
  },
  {
   "cell_type": "code",
   "execution_count": 137,
   "metadata": {},
   "outputs": [],
   "source": [
    "def update_parameters(parameters,v,grads,learning_rate):\n",
    "    L = len(parameters) // 2 # number of layers in the neural networks\n",
    "    beta=0.9\n",
    "    # Momentum update for each parameter\n",
    "    for l in range(L):\n",
    "        \n",
    "        ### START CODE HERE ### (approx. 4 lines)\n",
    "        # compute velocities\n",
    "        v[\"dW\" + str(l+1)] = beta * v[\"dW\" + str(l+1)] + (1-beta) * grads['dW' + str(l+1)]\n",
    "        v[\"db\" + str(l+1)] = beta * v[\"db\" + str(l+1)] + (1-beta) * grads['db' + str(l+1)]\n",
    "        # update parameters\n",
    "        parameters[\"W\" + str(l+1)] = parameters[\"W\" + str(l+1)] - learning_rate * v['dW' + str(l+1)]\n",
    "        parameters[\"b\" + str(l+1)] = parameters[\"b\" + str(l+1)] - learning_rate * v['db' + str(l+1)]\n",
    "        ### END CODE HERE ###\n",
    "        \n",
    "    return parameters, v"
   ]
  },
  {
   "cell_type": "code",
   "execution_count": 138,
   "metadata": {},
   "outputs": [],
   "source": [
    "def predict(X,Y,parameters):\n",
    "  #print(X[:,[0,5,10]])\n",
    "  m=X.shape[1]\n",
    "  n=len(parameters)//2\n",
    "  predictions=np.zeros((1,m))\n",
    "  prob,cache=forward_propogate(X,parameters)\n",
    "  for i in range(0,prob.shape[1]):\n",
    "    if prob[0][i] > 0.5:\n",
    "        predictions[0][i]=1\n",
    "    else:\n",
    "        predictions[0][i]=0\n",
    "  #print(\"Accuracy: \"+str(np.sum(predictions[0]==Y[0])))\n",
    "  print(\"Accuracy: \"  + str(np.sum((predictions == Y)/m)))\n",
    "  return predictions"
   ]
  },
  {
   "cell_type": "code",
   "execution_count": 139,
   "metadata": {},
   "outputs": [],
   "source": [
    "def initialize_velocity(parameters):\n",
    "    L = len(parameters) // 2 # number of layers in the neural networks\n",
    "    v = {}\n",
    "    \n",
    "    # Initialize velocity\n",
    "    for l in range(L):\n",
    "        ### START CODE HERE ### (approx. 2 lines)\n",
    "        v[\"dW\" + str(l+1)] = np.zeros_like(parameters['W' + str(l+1)])\n",
    "        v[\"db\" + str(l+1)] = np.zeros_like(parameters['b' + str(l+1)])\n",
    "        ### END CODE HERE ###\n",
    "        \n",
    "    return v"
   ]
  },
  {
   "cell_type": "code",
   "execution_count": 140,
   "metadata": {},
   "outputs": [],
   "source": [
    "def model(X,Y,layer_dims,learning_rate=0.0075,num_iterations=1500,print_cost=False):\n",
    "  parameters=init_parameters(layers_dims)\n",
    "  v=initialize_velocity(parameters)\n",
    "  costs=[]\n",
    "  for i in range(num_iterations):\n",
    "    O,caches=forward_propogate(X,parameters)\n",
    "    cost=compute_cost(O,Y,parameters,0.7)\n",
    "    grads=back_propogate(O,Y,caches)\n",
    "    parameters,v=update_parameters(parameters,v,grads,learning_rate)\n",
    "    #print(O,len(O[0]))\n",
    "    if print_cost and i%5000==0:\n",
    "      print(\"Cost after\",i,\"iteration:\",cost)\n",
    "      costs.append(cost)\n",
    "  plt.plot(costs)\n",
    "  plt.ylabel('cost')\n",
    "  plt.xlabel('iterations per 100')\n",
    "  plt.title(\"learning rate=\"+str(learning_rate))\n",
    "  plt.show()\n",
    "\n",
    "  return parameters"
   ]
  },
  {
   "cell_type": "code",
   "execution_count": 141,
   "metadata": {},
   "outputs": [
    {
     "name": "stdout",
     "output_type": "stream",
     "text": [
      "24 72\n",
      "(10, 67) (10, 29) (67,) (29,) [ 1.00000000e+00  0.00000000e+00  2.37313433e+01  4.00000000e+01\n",
      "  3.20370495e-02 -1.45864991e-01  1.79605302e-01  0.00000000e+00\n",
      "  1.57100000e+00  0.00000000e+00] 1.0\n"
     ]
    }
   ],
   "source": [
    "data=df.to_numpy()\n",
    "X_temp=data[:,[4,5,6]]\n",
    "#print(X_temp[:5,:],np.sum(X_temp,axis=0))\n",
    "mean=np.sum(X_temp,axis=0)/X_temp.shape[0]\n",
    "X_temp-=mean\n",
    "#print(X_temp[:5,:])\n",
    "X_sigma=np.sum(X_temp**2,axis=0)/X_temp.shape[0]\n",
    "data[:,[4,5,6]]=X_temp/np.sqrt(X_sigma)\n",
    "np.savetxt(\"cleaned.csv\",data,delimiter=',')\n",
    "X=data[:,:-1]\n",
    "Y=data[:,-1]\n",
    "print(np.sum(Y==0),np.sum(Y==1))\n",
    "X_train,X_test,Y_train,Y_test=train_test_split(X,Y,test_size=.30,random_state=11)\n",
    "print(X_train.T.shape,X_test.T.shape,Y_train.T.shape,Y_test.T.shape,X_train.T[:,50],Y_train.reshape((1,len(Y_train)))[0,50])"
   ]
  },
  {
   "cell_type": "code",
   "execution_count": 142,
   "metadata": {},
   "outputs": [
    {
     "name": "stdout",
     "output_type": "stream",
     "text": [
      "Cost after 0 iteration: 0.6913227845141361\n",
      "Cost after 5000 iteration: 0.3534949106539013\n",
      "Cost after 10000 iteration: 0.35103697413305474\n",
      "Cost after 15000 iteration: 0.2877330006722059\n",
      "Cost after 20000 iteration: 0.2824551711491321\n",
      "Cost after 25000 iteration: 0.27972895848324353\n",
      "Cost after 30000 iteration: 0.27800670782114534\n",
      "Cost after 35000 iteration: 0.27636494889731766\n",
      "Cost after 40000 iteration: 0.2713986047037351\n",
      "Cost after 45000 iteration: 0.2670540734505714\n",
      "Cost after 50000 iteration: 0.35020939163166626\n",
      "Cost after 55000 iteration: 0.3499528249674649\n",
      "Cost after 60000 iteration: 0.34983862330309906\n",
      "Cost after 65000 iteration: 0.3497723405864783\n",
      "Cost after 70000 iteration: 0.3497284301046437\n",
      "Cost after 75000 iteration: 0.34969695318339594\n"
     ]
    },
    {
     "data": {
      "image/png": "[encoded data removed]",
      "text/plain": [
       "<Figure size 432x288 with 1 Axes>"
      ]
     },
     "metadata": {
      "needs_background": "light"
     },
     "output_type": "display_data"
    }
   ],
   "source": [
    "layers_dims=(10,10,3,1)\n",
    "parameters=model(X_train.T,Y_train.reshape((1,len(Y_train))),layers_dims,learning_rate=0.3,num_iterations=80000,print_cost=True)"
   ]
  },
  {
   "cell_type": "code",
   "execution_count": 143,
   "metadata": {},
   "outputs": [
    {
     "name": "stdout",
     "output_type": "stream",
     "text": [
      "Accuracy: 0.8805970149253732\n"
     ]
    },
    {
     "data": {
      "text/plain": [
       "array([[1., 1., 1., 1., 1., 1., 0., 1., 1., 1., 0., 1., 1., 1., 1., 1.,\n",
       "        1., 1., 1., 1., 1., 1., 1., 0., 1., 1., 1., 1., 1., 1., 1., 0.,\n",
       "        1., 1., 1., 1., 1., 0., 1., 0., 1., 1., 1., 1., 1., 1., 1., 1.,\n",
       "        1., 1., 1., 0., 1., 1., 1., 1., 1., 1., 1., 1., 0., 1., 1., 1.,\n",
       "        1., 1., 1.]])"
      ]
     },
     "execution_count": 143,
     "metadata": {},
     "output_type": "execute_result"
    }
   ],
   "source": [
    "predict(X_train.T,Y_train.reshape((1,len(Y_train))),parameters)"
   ]
  },
  {
   "cell_type": "code",
   "execution_count": 144,
   "metadata": {},
   "outputs": [
    {
     "name": "stdout",
     "output_type": "stream",
     "text": [
      "Accuracy: 0.793103448275862\n"
     ]
    },
    {
     "data": {
      "text/plain": [
       "array([[1., 0., 1., 1., 1., 1., 1., 1., 1., 1., 1., 1., 1., 1., 1., 1.,\n",
       "        1., 0., 1., 1., 0., 0., 0., 1., 1., 0., 1., 0., 0.]])"
      ]
     },
     "execution_count": 144,
     "metadata": {},
     "output_type": "execute_result"
    }
   ],
   "source": [
    "predict(X_test.T,Y_test.reshape((1,len(Y_test))),parameters)"
   ]
  },
  {
   "cell_type": "code",
   "execution_count": 145,
   "metadata": {},
   "outputs": [
    {
     "data": {
      "text/plain": [
       "{'W1': array([[ 1.59233629e-01, -8.58688161e-01, -9.27510988e-02,\n",
       "         -5.37350473e-01, -6.81610098e-01,  3.16457014e-01,\n",
       "         -6.64919167e-02,  5.24220466e-01,  3.38447460e-02,\n",
       "          4.18120316e-01],\n",
       "        [-5.98034271e-02,  1.55208034e-01, -3.46209302e-01,\n",
       "         -5.70632433e-01, -1.79405068e-01, -4.83995321e-01,\n",
       "         -6.93356582e-01,  3.28842977e-01, -1.76696023e-02,\n",
       "          3.62973553e-01],\n",
       "        [-2.13404480e-01, -8.89002057e-01, -5.58465646e-02,\n",
       "          4.58202130e-01, -5.18343214e-01, -1.42152949e-01,\n",
       "          5.16515043e-01,  8.41922772e-02,  8.32129180e-01,\n",
       "         -3.17021145e-01],\n",
       "        [ 1.61208562e+00,  3.63440501e-01,  2.25252054e+00,\n",
       "         -4.80785592e-01,  2.69523165e+00,  2.56549439e-01,\n",
       "          3.00989363e-01,  7.57962054e-01,  1.54847130e-01,\n",
       "          1.25961344e+00],\n",
       "        [-1.00107518e+01, -1.19842521e-01, -4.93931161e+00,\n",
       "          9.95395213e-01,  1.89119693e-02,  8.16910129e-01,\n",
       "         -8.88586282e-01, -2.27294363e+00, -6.31813970e-01,\n",
       "         -1.32723386e+00],\n",
       "        [ 4.67918293e+00,  7.89628639e-01, -6.40517443e+00,\n",
       "          4.09335033e+00,  2.19288672e+00,  3.87048967e-01,\n",
       "          2.63800276e+00,  3.98246016e+00, -1.23399615e+00,\n",
       "          2.06263820e+00],\n",
       "        [-6.41543148e-01,  4.50773978e-01, -1.95359918e+00,\n",
       "         -2.45886956e+00, -1.95963263e+00, -3.56203647e-01,\n",
       "         -8.12830323e-01, -3.40554132e-01,  1.45504725e+00,\n",
       "          1.52609155e+00],\n",
       "        [ 6.35187534e-03,  7.07336678e-01, -1.06990288e+00,\n",
       "         -1.07190703e+00, -9.68384936e-01, -1.30176045e-01,\n",
       "         -5.59478483e-01, -1.15599859e-01,  5.23381496e-01,\n",
       "          9.94451117e-01],\n",
       "        [-6.22047951e-01,  5.96773203e-01, -8.58193602e-01,\n",
       "         -7.97627653e-01,  9.66686307e-01,  1.78897449e-01,\n",
       "         -4.53021863e-01, -6.76432953e-02,  3.67684447e-01,\n",
       "          6.27781977e-01],\n",
       "        [ 6.66013512e-02,  1.63681855e-01, -9.29388809e-01,\n",
       "         -5.79413968e-03, -9.38408927e-01, -1.15274213e-01,\n",
       "         -2.19183269e-01, -2.94577745e-01,  2.62332441e-01,\n",
       "          1.68725968e+00]]),\n",
       " 'b1': array([[-7.38200246e-07],\n",
       "        [ 3.94707546e-09],\n",
       "        [ 3.76092329e-04],\n",
       "        [ 5.68269431e-01],\n",
       "        [-6.10311540e+00],\n",
       "        [-9.03617722e-01],\n",
       "        [ 1.57851878e+00],\n",
       "        [ 8.45317264e-01],\n",
       "        [ 7.62959239e-15],\n",
       "        [ 8.60838423e-01]]),\n",
       " 'W2': array([[ 0.81086575, -0.05089361, -1.36186139, -2.24510011,  1.66537311,\n",
       "          0.64405438, -1.0986927 , -0.91658354,  0.10765874, -0.83065251],\n",
       "        [-0.05876206, -0.1793876 , -0.3603712 , -3.46003762, -3.77290249,\n",
       "          6.48952304, -2.67738003, -1.16907596, -0.51369729, -1.71332953],\n",
       "        [ 0.19871806,  0.20058917, -2.17844422, -5.41812818,  8.91330435,\n",
       "          1.99694135, -2.05676296, -1.95606175, -0.14644183, -1.51858141]]),\n",
       " 'b2': array([[-1.41433436],\n",
       "        [-0.61465354],\n",
       "        [-1.91101225]]),\n",
       " 'W3': array([[ 2.19010389, 10.4030372 ,  9.97982134]]),\n",
       " 'b3': array([[-7.40108535]])}"
      ]
     },
     "execution_count": 145,
     "metadata": {},
     "output_type": "execute_result"
    }
   ],
   "source": [
    "parameters"
   ]
  },
  {
   "cell_type": "code",
   "execution_count": null,
   "metadata": {},
   "outputs": [],
   "source": []
  }
 ],
 "metadata": {
  "kernelspec": {
   "display_name": "Python 3",
   "language": "python",
   "name": "python3"
  },
  "language_info": {
   "codemirror_mode": {
    "name": "ipython",
    "version": 3
   },
   "file_extension": ".py",
   "mimetype": "text/x-python",
   "name": "python",
   "nbconvert_exporter": "python",
   "pygments_lexer": "ipython3",
   "version": "3.7.6"
  }
 },
 "nbformat": 4,
 "nbformat_minor": 4
}
